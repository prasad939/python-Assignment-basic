{
 "cells": [
  {
   "cell_type": "code",
   "execution_count": null,
   "id": "7a71f478-6540-4303-965b-9fbd8c782451",
   "metadata": {},
   "outputs": [],
   "source": [
    "#Declare two variables, `x` and `y`, and assign them integer values. Swap thevalues of these variables without using any temporary variable."
   ]
  },
  {
   "cell_type": "code",
   "execution_count": null,
   "id": "dd31c5ed-b54a-4c70-a508-55c83ee1962f",
   "metadata": {},
   "outputs": [],
   "source": [
    "# Assign values to x and y\n",
    "x = 10\n",
    "y = 20\n",
    "\n",
    "# Swapping without a temporary variable\n",
    "x, y = y, x\n",
    "\n",
    "# Print swapped values\n",
    "print(\"After swapping:\")\n",
    "print(\"x =\", x)\n",
    "print(\"y =\", y)\n"
   ]
  },
  {
   "cell_type": "code",
   "execution_count": null,
   "id": "ac3c3bba-95cc-455b-a485-0736a0044d97",
   "metadata": {},
   "outputs": [],
   "source": [
    "#2. Create a program that calculates the area of a rectangle. Take the length and width as inputs from the user and store them in variables. Calculate and display the area."
   ]
  },
  {
   "cell_type": "code",
   "execution_count": null,
   "id": "9a92f445-1ccc-4ad5-ba50-782f2d1970ce",
   "metadata": {},
   "outputs": [],
   "source": [
    " # Take input for the length and width of the rectangle\n",
    "\n",
    "length = float(input(\"Enter the length of the rectangle: \"))\n",
    "width = float(input(\"Enter the width of the rectangle: \"))\n",
    "\n",
    "# Calculate the area\n",
    "area = length * width\n",
    "\n",
    "# Display the result\n",
    "print(\"The area of the rectangle is:\", area)\n"
   ]
  },
  {
   "cell_type": "code",
   "execution_count": null,
   "id": "a81fbc26-1aaf-4529-aa63-db389ca978fe",
   "metadata": {},
   "outputs": [],
   "source": [
    "#The length of rectangle = 12\n",
    "#The width of the rectangle = 5\n",
    "#The area of the rectangle  = 60"
   ]
  },
  {
   "cell_type": "code",
   "execution_count": null,
   "id": "ab573b16-357c-4541-b350-fe6d66ced574",
   "metadata": {},
   "outputs": [],
   "source": [
    "#3 Write a Python program that converts temperatures from Celsius toFahrenheit. Take the temperature in Celsius as input, store it in a variable,convert it to Fahrenheit, and display the result."
   ]
  },
  {
   "cell_type": "code",
   "execution_count": null,
   "id": "382babdb-9e88-4318-ae50-65941ac203cf",
   "metadata": {},
   "outputs": [],
   "source": [
    "# Take user input for temperature in Celsius\n",
    "celsius = float(input(\"Enter temperature in Celsius: \"))\n",
    "\n",
    "# Convert Celsius to Fahrenheit\n",
    "fahrenheit = (celsius * 9/5) + 32\n",
    "\n",
    "# Display the result\n",
    "print(\"Temperature in Fahrenheit:\", fahrenheit)\n"
   ]
  },
  {
   "cell_type": "code",
   "execution_count": null,
   "id": "f45b4b87-6efe-419b-ba76-d86a58bd98ef",
   "metadata": {},
   "outputs": [],
   "source": [
    "# For example\n",
    "#Enter temperature in Celsius: 25\n",
    "#Temperature in Fahrenheit: 77.0"
   ]
  },
  {
   "cell_type": "code",
   "execution_count": null,
   "id": "359d9d99-521b-4fed-a4cf-10a4d02835b5",
   "metadata": {},
   "outputs": [],
   "source": [
    "## String Based Questions"
   ]
  },
  {
   "cell_type": "code",
   "execution_count": null,
   "id": "18305005-c90b-49ab-b539-9379d29720aa",
   "metadata": {},
   "outputs": [],
   "source": []
  },
  {
   "cell_type": "code",
   "execution_count": null,
   "id": "22498af0-98f8-4c99-8225-e9262fec72e3",
   "metadata": {},
   "outputs": [],
   "source": [
    "# Take user input\n",
    "user_string = input(\"Enter a string: \")\n",
    "\n",
    "# Calculate the length of the string\n",
    "string_length = len(user_string)\n",
    "\n",
    "# Display the result\n",
    "print(\"Length of the string:\", string_length)\n"
   ]
  },
  {
   "cell_type": "code",
   "execution_count": null,
   "id": "7385cba9-0669-466c-943d-5a09671e8f3f",
   "metadata": {},
   "outputs": [],
   "source": [
    "#For example\n",
    "#Enter a string: Hello, World!\n",
    "#Length of the string: 13\n"
   ]
  },
  {
   "cell_type": "code",
   "execution_count": null,
   "id": "55e013ce-a581-4afe-90b4-835fab537812",
   "metadata": {},
   "outputs": [],
   "source": [
    "#2. Create a program that takes a sentence from the user and counts the number of vowels (a, e, i, o, u) in the string."
   ]
  },
  {
   "cell_type": "code",
   "execution_count": null,
   "id": "577c49b8-9a20-42ae-9ad4-cb24165f62b2",
   "metadata": {},
   "outputs": [],
   "source": [
    "# Take user input\n",
    "sentence = input(\"Enter a sentence: \")\n",
    "\n",
    "# Convert to lowercase for case insensitivity\n",
    "sentence = sentence.lower()\n",
    "\n",
    "# Define vowels\n",
    "vowels = \"aeiou\"\n",
    "\n",
    "# Count vowels using list comprehension\n",
    "vowel_count = sum(1 for char in sentence if char in vowels)\n",
    "\n",
    "# Display the result\n",
    "print(\"Number of vowels in the sentence:\", vowel_count)"
   ]
  },
  {
   "cell_type": "code",
   "execution_count": null,
   "id": "2284380d-7a86-4384-9fde-58922a166b7e",
   "metadata": {},
   "outputs": [],
   "source": [
    "#For example\n",
    "#Enter a sentence: Hello, how are you?\n",
    "#Number of vowels in the sentence: 7\n"
   ]
  },
  {
   "cell_type": "code",
   "execution_count": null,
   "id": "cb64bd27-b7e5-440a-abe7-256a38107b2b",
   "metadata": {},
   "outputs": [],
   "source": [
    "#3. Given a string, reverse the order of characters using string slicing and print the reversed string."
   ]
  },
  {
   "cell_type": "code",
   "execution_count": null,
   "id": "4de46e3a-73c5-4c93-8831-49305ee05f13",
   "metadata": {},
   "outputs": [],
   "source": [
    "# Take user input\n",
    "user_string = input(\"Enter a string: \")\n",
    "\n",
    "# Reverse the string using slicing\n",
    "reversed_string = user_string[::-1]\n",
    "#[::-1] slices the string from end to start (step -1)\n",
    "\n",
    "# Display the result\n",
    "print(\"Reversed string:\", reversed_string)"
   ]
  },
  {
   "cell_type": "code",
   "execution_count": null,
   "id": "952b1588-37f0-45b7-bd04-3d72f9fb0c57",
   "metadata": {},
   "outputs": [],
   "source": [
    "#For example \n",
    "#Enter a string: Python\n",
    "#Reversed string: nohtyP "
   ]
  },
  {
   "cell_type": "code",
   "execution_count": null,
   "id": "e0e94684-04e3-4431-a4dd-495b3d742160",
   "metadata": {},
   "outputs": [],
   "source": [
    "#3. Write a program that takes a string as input and checks if it is a palindrome (reads the same forwards and backwards)."
   ]
  },
  {
   "cell_type": "code",
   "execution_count": null,
   "id": "089fbd33-6442-4b48-ad19-ed414599233b",
   "metadata": {},
   "outputs": [],
   "source": [
    "def check_palindrome(s):\n",
    "    # Remove spaces and convert to lowercase for a case-insensitive comparison\n",
    "    s = s.replace(\" \", \"\").lower()\n",
    "    \n",
    "    # Compare the string with its reverse\n",
    "    if s == s[::-1]:\n",
    "        return True\n",
    "    else:\n",
    "        return False\n",
    "\n",
    "# Input from the user\n",
    "string = input(\"Enter a string: \")\n",
    "\n",
    "# Check if the string is a palindrome\n",
    "if check_palindrome(string):\n",
    "    print(\"The string is a palindrome.\")\n",
    "else:\n",
    "    print(\"The string is not a palindrome.\")"
   ]
  },
  {
   "cell_type": "code",
   "execution_count": null,
   "id": "6172344d-53fb-43e5-a46a-dc6875e8efa2",
   "metadata": {},
   "outputs": [],
   "source": [
    "#5. Create a program that takes a string as input and removes all the spaces from it. Print the modified string without spaces."
   ]
  },
  {
   "cell_type": "code",
   "execution_count": null,
   "id": "2aeef4d2-4389-40ed-a523-810b8055adbc",
   "metadata": {},
   "outputs": [],
   "source": [
    " def remove_spaces(s):\n",
    "    # Remove all spaces from the string\n",
    "    return s.replace(\" \", \"\")\n",
    "\n",
    "# Input from the user\n",
    "string = input(\"Enter a string: \")\n",
    "#The function remove_spaces(s) uses the replace() method to remove all spaces (\" \") from the input string s\n",
    "\n",
    "# Remove spaces and print the modified string\n",
    "modified_string = remove_spaces(string)\n",
    "print(\"String without spaces:\", modified_string)"
   ]
  }
 ],
 "metadata": {
  "kernelspec": {
   "display_name": "Python 3 (ipykernel)",
   "language": "python",
   "name": "python3"
  },
  "language_info": {
   "codemirror_mode": {
    "name": "ipython",
    "version": 3
   },
   "file_extension": ".py",
   "mimetype": "text/x-python",
   "name": "python",
   "nbconvert_exporter": "python",
   "pygments_lexer": "ipython3",
   "version": "3.11.7"
  }
 },
 "nbformat": 4,
 "nbformat_minor": 5
}
