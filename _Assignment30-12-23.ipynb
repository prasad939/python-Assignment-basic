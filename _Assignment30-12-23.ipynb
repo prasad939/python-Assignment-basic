{
 "cells": [
  {
   "cell_type": "code",
   "execution_count": 126,
   "id": "957c2fbb-fbfa-45d8-94ff-90823a265160",
   "metadata": {},
   "outputs": [],
   "source": [
    "##String Based Assignment Problem "
   ]
  },
  {
   "cell_type": "code",
   "execution_count": 127,
   "id": "00462f7b-ff44-4086-b5e0-3a67ed469181",
   "metadata": {},
   "outputs": [],
   "source": [
    "#1. Write a program to reverse a string.\n",
    "def reverse_string(s):\n",
    "    return s[::-1]"
   ]
  },
  {
   "cell_type": "code",
   "execution_count": 128,
   "id": "3fb5c85b-2234-4a40-acf4-fef6b23c8434",
   "metadata": {},
   "outputs": [],
   "source": [
    "#2. Check if a string is a palindrome.\n",
    "#3. Convert a string to uppercase.\n",
    "#4. Convert a string to lowercase.\n",
    "#5. Count the number of vowels in a string.\n",
    "#6. Count the number of consonants in a string.\n",
    "#7. Remove all whitespaces from a string.\n",
    "#8. Find the length of a string without using the `len()` function.\n",
    "#9. Check if a string contains a specific word.\n",
    "#10. Replace a word in a string with another word.\n",
    "#11. Count the occurrences of a word in a string.\n",
    "#12. Find the first occurrence of a word in a string.\n",
    "#13. Find the last occurrence of a word in a string.\n",
    "#14. Split a string into a list of words.\n",
    "#15. Join a list of words into a string.\n",
    "#16. Convert a string where words are separated by spaces to one where words are separated by underscores.\n",
    "#17. Check if a string starts with a specific word or phrase.\n",
    "#18. Check if a string ends with a specific word or phrase.\n",
    "#19. Convert a string to a title case (e.g., \"hello world\" to \"Hello World\").\n",
    "#20. Find the longest word in a string.\n",
    "#21. Find the shortest word in a string.\n",
    "#22. Reverse the order of words in a string.\n",
    "#23. Check if a string is alphanumeric.\n",
    "#24. Extract all digits from a string.\n",
    "#25. Extract all alphabets from a string.\n",
    "#26. Count the number of uppercase letters in a string.\n",
    "#27. Count the number of lowercase letters in a string.\n",
    "#28. Swap the case of each character in a string.\n",
    "#29. Remove a specific word from a string.\n",
    "#30. Check if a string is a valid email address.\n",
    "#31. Extract the username from an email address string.\n",
    "#32. Extract the domain name from an email address string.\n",
    "#33. Replace multiple spaces in a string with a single space.\n",
    "#34. Check if a string is a valid URL.\n",
    "#35. Extract the protocol (http or https) from a URL string.\n",
    "#36. Find the frequency of each character in a string.\n",
    "#37. Remove all punctuation from a string.\n",
    "#38. Check if a string contains only digits.\n",
    "#39. Check if a string contains only alphabets.\n",
    "#40. Convert a string to a list of characters.\n",
    "#41. Check if two strings are anagrams.\n",
    "#42. Encode a string using a Caesar cipher.\n",
    "#43. Decode a Caesar cipher encoded string.\n",
    "#44. Find the most frequent word in a string.\n",
    "#45. Find all unique words in a string.\n",
    "#46. Count the number of syllables in a string.\n",
    "#47. Check if a string contains any special characters.\n",
    "#48. Remove the nth word from a string.\n",
    "#49. Insert a word at the nth position in a string.\n",
    "#50. Convert a CSV string to a list of lists.\n",
    "    "
   ]
  },
  {
   "cell_type": "code",
   "execution_count": 129,
   "id": "a0d45764-0472-46f1-8117-1749d91cf1d7",
   "metadata": {},
   "outputs": [],
   "source": [
    "# 2. Check if a string is a palindrome\n",
    "def is_palindrome(s):\n",
    "    return s == s[::-1]"
   ]
  },
  {
   "cell_type": "code",
   "execution_count": 130,
   "id": "95185cc8-e614-4b99-b6fe-e8d415ee7a46",
   "metadata": {},
   "outputs": [],
   "source": [
    "# 3. Convert a string to uppercase\n",
    "def to_uppercase(s):\n",
    "    return s.upper()"
   ]
  },
  {
   "cell_type": "code",
   "execution_count": 131,
   "id": "880332e1-5910-4e9e-9d81-47abc68a2168",
   "metadata": {},
   "outputs": [],
   "source": [
    "# 4. Convert a string to lowercase\n",
    "def to_lowercase(s):\n",
    "    return s.lower()\n"
   ]
  },
  {
   "cell_type": "code",
   "execution_count": 132,
   "id": "4fcef977-da8f-4b07-9c04-f7a4d14f221a",
   "metadata": {},
   "outputs": [],
   "source": [
    "# 5. Count the number of vowels in a string\n",
    "def count_vowels(s):\n",
    "    return sum(1 for char in s if char.lower() in 'aeiou')"
   ]
  },
  {
   "cell_type": "code",
   "execution_count": 133,
   "id": "a4d9e6ec-20d4-4361-9b0c-e11b217ad6f8",
   "metadata": {},
   "outputs": [],
   "source": [
    "# 6. Count the number of consonants in a string\n",
    "def count_consonants(s):\n",
    "    return sum(1 for char in s if char.isalpha() and char.lower() not in 'aeiou')"
   ]
  },
  {
   "cell_type": "code",
   "execution_count": 134,
   "id": "4e177262-2839-4b36-87d2-5579dd4c3033",
   "metadata": {},
   "outputs": [],
   "source": [
    "# 7. Remove all whitespaces from a string\n",
    "def remove_whitespaces(s):\n",
    "    return ''.join(s.split())"
   ]
  },
  {
   "cell_type": "code",
   "execution_count": 135,
   "id": "4be59856-5a80-445f-be2d-fdafb2b48850",
   "metadata": {},
   "outputs": [],
   "source": [
    "# 8. Find the length of a string without using the `len()` function\n",
    "def string_length(s):\n",
    "    count = 0\n",
    "    for _ in s:\n",
    "        count += 1\n",
    "    return count"
   ]
  },
  {
   "cell_type": "code",
   "execution_count": 136,
   "id": "e79c4519-f9f2-40e0-b645-e0b8bc485e32",
   "metadata": {},
   "outputs": [],
   "source": [
    "# 9. Check if a string contains a specific word\n",
    "def contains_word(s, word):\n",
    "    return word in s"
   ]
  },
  {
   "cell_type": "code",
   "execution_count": 137,
   "id": "c3f89e73-51fb-46ae-8e9c-3b5d56394c77",
   "metadata": {},
   "outputs": [],
   "source": [
    "# 10. Replace a word in a string with another word\n",
    "def replace_word(s, old_word, new_word):\n",
    "    return s.replace(old_word, new_word)"
   ]
  },
  {
   "cell_type": "code",
   "execution_count": 138,
   "id": "194317ca-e9e0-48d4-840f-acbb6c76c321",
   "metadata": {},
   "outputs": [],
   "source": [
    "# 11. Count the occurrences of a word in a string\n",
    "def count_word_occurrences(s, word):\n",
    "    return s.split().count(word)"
   ]
  },
  {
   "cell_type": "code",
   "execution_count": 139,
   "id": "5c9257c6-af1a-457a-8264-3d4d60e7f61a",
   "metadata": {},
   "outputs": [],
   "source": [
    "# 12. Find the first occurrence of a word in a string\n",
    "def first_occurrence(s, word):\n",
    "    return s.find(word)"
   ]
  },
  {
   "cell_type": "code",
   "execution_count": 140,
   "id": "7919a001-d862-470a-ad00-2dd481d2a213",
   "metadata": {},
   "outputs": [],
   "source": [
    "# 13. Find the last occurrence of a word in a string\n",
    "def last_occurrence(s, word):\n",
    "    return s.rfind(word)"
   ]
  },
  {
   "cell_type": "code",
   "execution_count": 141,
   "id": "c52170f9-96a5-4ae4-88d4-e70d80fcfcb3",
   "metadata": {},
   "outputs": [],
   "source": [
    "# 14. Split a string into a list of words\n",
    "def split_string(s):\n",
    "    return s.split()\n"
   ]
  },
  {
   "cell_type": "code",
   "execution_count": 142,
   "id": "d8a7f1a4-3c91-4ee7-b4c9-e935bd36d9e3",
   "metadata": {},
   "outputs": [],
   "source": [
    "# 15. Join a list of words into a string\n",
    "def join_words(words):\n",
    "    return ' '.join(words)"
   ]
  },
  {
   "cell_type": "code",
   "execution_count": 143,
   "id": "0ddc0df2-a748-404c-b66f-45b53e4cdd8c",
   "metadata": {},
   "outputs": [],
   "source": [
    "# 16. Convert a string where words are separated by spaces to underscores\n",
    "def spaces_to_underscores(s):\n",
    "    return s.replace(' ', '_')"
   ]
  },
  {
   "cell_type": "code",
   "execution_count": 144,
   "id": "9515db67-b976-4cb8-bfed-b6f0ec75c53a",
   "metadata": {},
   "outputs": [],
   "source": [
    "# 17. Check if a string starts with a specific word or phrase\n",
    "def starts_with(s, prefix):\n",
    "    return s.startswith(prefix)"
   ]
  },
  {
   "cell_type": "code",
   "execution_count": 145,
   "id": "ebe5566e-bd9d-4313-910e-a6df11ccf6fb",
   "metadata": {},
   "outputs": [],
   "source": [
    "# 18. Check if a string ends with a specific word or phrase\n",
    "def ends_with(s, suffix):\n",
    "    return s.endswith(suffix)"
   ]
  },
  {
   "cell_type": "code",
   "execution_count": 146,
   "id": "50287552-9f97-47c2-bd6a-36ac4bc7b048",
   "metadata": {},
   "outputs": [],
   "source": [
    "# 19. Convert a string to title case\n",
    "def to_title_case(s):\n",
    "    return s.title()"
   ]
  },
  {
   "cell_type": "code",
   "execution_count": 147,
   "id": "a92f8ce9-893b-4764-92bd-67bdd99c7837",
   "metadata": {},
   "outputs": [],
   "source": [
    "# 20. Find the longest word in a string\n",
    "def longest_word(s):\n",
    "    return max(s.split(), key=len)"
   ]
  },
  {
   "cell_type": "code",
   "execution_count": 159,
   "id": "88000916-2d09-4667-93cc-1f0c04852689",
   "metadata": {},
   "outputs": [],
   "source": [
    " # 21. Find the shortest word in a string\n",
    "def shortest_word(s):\n",
    "    return min(s.split(), key=len)"
   ]
  },
  {
   "cell_type": "code",
   "execution_count": 158,
   "id": "ee4ad76f-8562-4285-a692-d224114ccb1f",
   "metadata": {},
   "outputs": [],
   "source": [
    "# 22. Reverse the order of words in a string\n",
    "def reverse_word_order(s):\n",
    "    return ' '.join(s.split()[::-1])"
   ]
  },
  {
   "cell_type": "code",
   "execution_count": null,
   "id": "bc4fb8a8-6dff-4545-99a5-4247662b0c54",
   "metadata": {},
   "outputs": [],
   "source": [
    "# 23. Check if a string is alphanumeric\n",
    "def is_alphanumeric(s):\n",
    "    return s.isalnum()"
   ]
  },
  {
   "cell_type": "code",
   "execution_count": null,
   "id": "ec8422dc-4ddb-4d7f-a95a-fecca6c7710a",
   "metadata": {},
   "outputs": [],
   "source": [
    "# 24. Extract all digits from a string\n",
    "def extract_digits(s):\n",
    "    return ''.join(filter(str.isdigit, s))"
   ]
  },
  {
   "cell_type": "code",
   "execution_count": null,
   "id": "998edfb1-d31c-4641-98f2-0da06770da52",
   "metadata": {},
   "outputs": [],
   "source": [
    " # 25. Extract all alphabets from a string\n",
    "def extract_alphabets(s):\n",
    "    return ''.join(filter(str.isalpha, s))"
   ]
  },
  {
   "cell_type": "code",
   "execution_count": null,
   "id": "c528ad78-9655-4921-88ff-f3cab0184785",
   "metadata": {},
   "outputs": [],
   "source": [
    "# 26. Count the number of uppercase letters in a string\n",
    "def count_uppercase(s):\n",
    "    return sum(1 for char in s if char.isupper())"
   ]
  },
  {
   "cell_type": "code",
   "execution_count": null,
   "id": "f82f7944-c630-4b77-86b1-324e989f13d4",
   "metadata": {},
   "outputs": [],
   "source": [
    "# 27. Count the number of lowercase letters in a string\n",
    "def count_lowercase(s):\n",
    "    return sum(1 for char in s if char.islower())"
   ]
  },
  {
   "cell_type": "code",
   "execution_count": null,
   "id": "044c4741-cdca-4b02-b68d-616677e7de41",
   "metadata": {},
   "outputs": [],
   "source": [
    "# 28. Swap the case of each character in a string\n",
    "def swap_case(s):\n",
    "    return s.swapcase()"
   ]
  },
  {
   "cell_type": "code",
   "execution_count": null,
   "id": "686f0483-c896-49e3-8a34-e00aa8b16960",
   "metadata": {},
   "outputs": [],
   "source": [
    "# 29. Remove a specific word from a string\n",
    "def remove_word(s, word):\n",
    "    return ' '.join(w for w in s.split() if w != word)"
   ]
  },
  {
   "cell_type": "code",
   "execution_count": 151,
   "id": "3d1ff2bd-d94a-4e4f-9f16-9a39df48a807",
   "metadata": {},
   "outputs": [],
   "source": [
    "# 30. Check if a string is a valid email address\n",
    "import re\n",
    "def is_valid_email(s):\n",
    "    regex = r'^[a-zA-Z0-9_.+-]+@[a-zA-Z0-9-]+\\.[a-zA-Z0-9-.]+\\$'\n",
    "    return re.match(regex, s) is not None"
   ]
  },
  {
   "cell_type": "code",
   "execution_count": null,
   "id": "f0b00baf-bd20-4293-be64-88e7fe568e7c",
   "metadata": {},
   "outputs": [],
   "source": [
    "\n",
    "# 31. Extract the username from an email address string\n",
    "def extract_username(email):\n",
    "    return email.split('@')[0]"
   ]
  },
  {
   "cell_type": "code",
   "execution_count": null,
   "id": "03188d6f-e34d-4cb5-b1a3-fabb319d01a5",
   "metadata": {},
   "outputs": [],
   "source": [
    "# 32. Extract the domain name from an email address string\n",
    "def extract_domain(email):\n",
    "    return email.split('@')[1]"
   ]
  },
  {
   "cell_type": "code",
   "execution_count": null,
   "id": "1cfc8c1e-7f03-4da6-88e0-14f88f0c6954",
   "metadata": {},
   "outputs": [],
   "source": [
    "\n",
    "# 33. Replace multiple spaces in a string with a single space\n",
    "def replace_multiple_spaces(s):\n",
    "    return ' '.join(s.split())"
   ]
  },
  {
   "cell_type": "code",
   "execution_count": null,
   "id": "57ae89e8-bd25-497c-aadc-f16f3d5edaec",
   "metadata": {},
   "outputs": [],
   "source": [
    "# 34. Check if a string is a valid URL\n",
    "def is_valid_url(url):\n",
    "    regex = r'^(http://|https://|ftp://)?[a-zA-Z0-9.-]+\\.[a-zA-Z]{2,}(/.*)?\\$'\n",
    "    return re.match(regex, url) is not None"
   ]
  },
  {
   "cell_type": "code",
   "execution_count": null,
   "id": "eaa6b40a-5f11-48b3-904a-1bb9b02f83de",
   "metadata": {},
   "outputs": [],
   "source": [
    "# 35. Extract the protocol (http or https) from a URL string\n",
    "def extract_protocol(url):\n",
    "    if url.startswith(\"http://\"):\n",
    "        return \"http\"\n",
    "    elif url.startswith(\"https://\"):\n",
    "        return \"https\"\n",
    "    return None"
   ]
  },
  {
   "cell_type": "code",
   "execution_count": null,
   "id": "67afaa05-b82e-4af0-87b0-495bd765f41a",
   "metadata": {},
   "outputs": [],
   "source": [
    "# 36. Find the frequency of each character in a string\n",
    "def char_frequency(s):\n",
    "    frequency = {}\n",
    "    for char in s:\n",
    "        frequency[char] = frequency.get(char, 0) + 1\n",
    "    return frequency"
   ]
  },
  {
   "cell_type": "code",
   "execution_count": null,
   "id": "fd0196c8-b76b-4be2-b7b9-9cf80a716cbd",
   "metadata": {},
   "outputs": [],
   "source": [
    "# 37. Remove all punctuation from a string\n",
    "import string\n",
    "def remove_punctuation(s):\n",
    "    return s.translate(str.maketrans('', '', string.punctuation))"
   ]
  },
  {
   "cell_type": "code",
   "execution_count": null,
   "id": "e09d9adb-49bd-4f2a-aecb-1ff177cef1be",
   "metadata": {},
   "outputs": [],
   "source": [
    "# 38. Check if a string contains only digits\n",
    "def contains_only_digits(s):\n",
    "    return s.isdigit()"
   ]
  },
  {
   "cell_type": "code",
   "execution_count": null,
   "id": "0fbc879f-2b82-4a29-8d4b-62bcdb687f35",
   "metadata": {},
   "outputs": [],
   "source": [
    "# 39. Check if a string contains only alphabets\n",
    "def contains_only_alphabets(s):\n",
    "    return s.isalpha()"
   ]
  },
  {
   "cell_type": "code",
   "execution_count": null,
   "id": "a5cb9a1a-7390-4fe8-bdda-12f0674d024d",
   "metadata": {},
   "outputs": [],
   "source": [
    "# 40. Convert a string to a list of characters\n",
    "def string_to_char_list(s):\n",
    "    return list(s)"
   ]
  },
  {
   "cell_type": "code",
   "execution_count": null,
   "id": "d21ddcdb-d18f-4436-adb5-29ec1a96b666",
   "metadata": {},
   "outputs": [],
   "source": [
    "# 41. Check if two strings are anagrams\n",
    "def are_anagrams(s1, s2):\n",
    "    return sorted(s1) == sorted(s2)"
   ]
  },
  {
   "cell_type": "code",
   "execution_count": null,
   "id": "8a045180-19ce-4dba-8bbe-98fe2f582c54",
   "metadata": {},
   "outputs": [],
   "source": [
    "# 42. Encode a string using a Caesar cipher\n",
    "def caesar_cipher_encode(s, shift):\n",
    "    encoded = []\n",
    "    for char in s:\n",
    "        if char.isalpha():\n",
    "            base = ord('a') if char.islower() else ord('A')\n",
    "            encoded.append(chr((ord(char) - base + shift) % 26 + base))\n",
    "        else:\n",
    "            encoded.append(char)\n",
    "    return ''.join(encoded)"
   ]
  },
  {
   "cell_type": "code",
   "execution_count": null,
   "id": "2a30e7fa-4d4f-4d2e-93a3-41faff87bc1e",
   "metadata": {},
   "outputs": [],
   "source": [
    "# 43. Decode a Caesar cipher encoded string\n",
    "def caesar_cipher_decode(s, shift):\n",
    "    return caesar_cipher_encode(s, -shift)\n",
    "    "
   ]
  },
  {
   "cell_type": "code",
   "execution_count": null,
   "id": "51438f6c-a288-4595-ba62-bca08875d451",
   "metadata": {},
   "outputs": [],
   "source": [
    "# 44. Find the most frequent word in a string\n",
    "def most_frequent_word(s):\n",
    "    words = s.split()\n",
    "    frequency = {}\n",
    "    for word in words:\n",
    "        frequency[word] = frequency.get(word, 0) + 1\n",
    "    return max(frequency, key=frequency.get)"
   ]
  },
  {
   "cell_type": "code",
   "execution_count": null,
   "id": "8a193c9d-6a7b-4746-89bf-1bacbcd6ff61",
   "metadata": {},
   "outputs": [],
   "source": [
    "# 45. Find all unique words in a string\n",
    "def unique_words(s):\n",
    "    return set(s.split())"
   ]
  },
  {
   "cell_type": "code",
   "execution_count": null,
   "id": "d5e10a21-0ef6-493a-8ca4-7403dc98c733",
   "metadata": {},
   "outputs": [],
   "source": [
    "# 46. Count the number of syllables in a string\n",
    "def count_syllables(s):\n",
    "    vowels = \"aeiouy\"\n",
    "    count = 0\n",
    "    s = s.lower()\n",
    "    for i in range(len(s)):\n",
    "        if s[i] in vowels:\n",
    "            if i == 0 or s[i - 1] not in vowels:\n",
    "                count += 1\n",
    "    if s.endswith('e'):\n",
    "        count -= 1\n",
    "    return max(count, 1)  # At least one syllable"
   ]
  },
  {
   "cell_type": "code",
   "execution_count": null,
   "id": "d55e025e-7bf9-4ca0-a489-8b987a6e3983",
   "metadata": {},
   "outputs": [],
   "source": [
    "# 47. Check if a string contains any special characters\n",
    "import re\n",
    "def contains_special_characters(s):\n",
    "    return bool(re.search(r'[^a-zA-Z0-9\\s]', s))\n"
   ]
  },
  {
   "cell_type": "code",
   "execution_count": null,
   "id": "593ad5da-60db-4756-9daa-62e991570576",
   "metadata": {},
   "outputs": [],
   "source": [
    "# 48. Remove the nth word from a string\n",
    "def remove_nth_word(s, n):\n",
    "    words = s.split()\n",
    "    if 0 <= n < len(words):\n",
    "        del words[n]\n",
    "    return ' '.join(words)\n",
    "     "
   ]
  },
  {
   "cell_type": "code",
   "execution_count": null,
   "id": "6389756d-52d5-4221-af97-c0f44202ab17",
   "metadata": {},
   "outputs": [],
   "source": [
    "# 49. Insert a word at the nth position in a string\n",
    "def insert_word_at_nth(s, word, n):\n",
    "    words = s.split()\n",
    "    words.insert(n, word)\n",
    "    return ' '.join(words)"
   ]
  },
  {
   "cell_type": "code",
   "execution_count": null,
   "id": "163fbef4-ccec-4e23-af45-1aac80afcfbf",
   "metadata": {},
   "outputs": [],
   "source": [
    "# 50. Convert a CSV string to a list of lists\n",
    "def csv_to_list_of_lists(csv_string):\n",
    "    rows = csv_string.strip().split('\\n')\n",
    "    return [row.split(',') for row in rows]\n",
    "\n",
    "#Examples\n",
    "csv_data = \"name,age,city\\nAlice,30,New York\\nBob,25,Los Angeles\"\n",
    "print(csv_to_list_of_lists(csv_data))  # [['name', 'age', 'city'], ['Alice', '30', 'New York'], ['Bob', '25', 'Los Angeles']]"
   ]
  },
  {
   "cell_type": "code",
   "execution_count": null,
   "id": "0cd4bf66-07c7-4404-8e3d-cfd7ff8aa67d",
   "metadata": {},
   "outputs": [],
   "source": []
  },
  {
   "cell_type": "code",
   "execution_count": null,
   "id": "359ec2dd-2d56-4832-aa67-17f4f13e6d3d",
   "metadata": {},
   "outputs": [],
   "source": [
    "## LIST BASED PRACTICE PROBLEMS"
   ]
  },
  {
   "cell_type": "code",
   "execution_count": null,
   "id": "7337b18e-1332-4561-90b4-b151a2337733",
   "metadata": {},
   "outputs": [],
   "source": [
    "#1. Create a list with integers from 1 to 10.\n",
    "#2. Find the length of a list without using the `len()` function.\n",
    "#3. Append an element to the end of a list.\n",
    "#4. Insert an element at a specific index in a list.\n",
    "#5. Remove an element from a list by its value.\n",
    "#6. Remove an element from a list by its index.\n",
    "#7. Check if an element exists in a list.\n",
    "\n",
    "#8. Find the index of the first occurrence of an element in a list.\n",
    "\n",
    "#9. Count the occurrences of an element in a list.\n",
    "\n",
    "#10. Reverse the order of elements in a list.\n",
    "#11. Sort a list in ascending order.\n",
    "#12. Sort a list in descending order.\n",
    "#13. Create a list of even numbers from 1 to 20.\n",
    "#14. Create a list of odd numbers from 1 to 20.\n",
    "#15. Find the sum of all elements in a list.\n",
    "#16. Find the maximum value in a list.\n",
    "#17. Find the minimum value in a list.\n",
    "#18. Create a list of squares of numbers from 1 to 10.\n",
    "#19. Create a list of random numbers.\n",
    "#20. Remove duplicates from a list.\n",
    "#21. Find the common elements between two lists.\n",
    "#22. Find the difference between two lists.\n",
    "#23. Merge two lists.\n",
    "#24. Multiply all elements in a list by 2.\n",
    "#25. Filter out all even numbers from a list.\n",
    "#26. Convert a list of strings to a list of integers.\n",
    "#27. Convert a list of integers to a list of strings.\n",
    "#28. Flatten a nested list.\n",
    "#29. Create a list of the first 10 Fibonacci numbers.\n",
    "#30. Check if a list is sorted.\n",
    "#31. Rotate a list to the left by `n` positions.\n",
    "#32. Rotate a list to the right by `n` positions.\n",
    "#33. Create a list of prime numbers up to 50.\n",
    "#34. Split a list into chunks of size `n`.\n",
    "#35. Find the second largest number in a list.\n",
    "#36. Replace every element in a list with its square.\n",
    "#37. Convert a list to a dictionary where list elements become keys and their indices become values.\n",
    "#38. Shuffle the elements of a list randomly.\n",
    "#39. Create a list of the first 10 factorial numbers.\n",
    "#40. Check if two lists have at least one element in common.\n",
    "#41. Remove all elements from a list.\n",
    "#42. Replace negative numbers in a list with 0.\n",
    "#43. Convert a string into a list of words.\n",
    "#44. Convert a list of words into a string.\n",
    "#45. Create a list of the first `n` powers of 2.\n",
    "#46. Find the longest string in a list of strings.\n",
    "#47. Find the shortest string in a list of strings.\n",
    "#48. Create a list of the first `n` triangular numbers.\n",
    "#49. Check if a list contains another list as a subsequence.\n",
    "#50. Swap two elements in a list by their indices."
   ]
  },
  {
   "cell_type": "code",
   "execution_count": null,
   "id": "34fc5e6b-baad-460c-a62e-f99ccada8e7b",
   "metadata": {},
   "outputs": [],
   "source": [
    "# 1. Create a list with integers from 1 to 10\n",
    "def create_list():\n",
    "    return list(range(1, 11))"
   ]
  },
  {
   "cell_type": "code",
   "execution_count": null,
   "id": "bf11a389-d146-4416-851e-75d589b9f360",
   "metadata": {},
   "outputs": [],
   "source": [
    "# 2. Find the length of a list without using the len() function\n",
    "def find_length(lst):\n",
    "    count = 0\n",
    "    for _ in lst:\n",
    "        count += 1\n",
    "    return count"
   ]
  },
  {
   "cell_type": "code",
   "execution_count": null,
   "id": "d1330ea4-376c-4e79-a70d-20805d0a8700",
   "metadata": {},
   "outputs": [],
   "source": [
    "# 3. Append an element to the end of a list\n",
    "def append_element(lst, element):\n",
    "    lst += [element]  # Using list concatenation to append\n",
    "    return lst"
   ]
  },
  {
   "cell_type": "code",
   "execution_count": null,
   "id": "b1cf8a36-37b6-4aa3-a070-11ddd7fa16b3",
   "metadata": {},
   "outputs": [],
   "source": [
    "# 4. Insert an element at a specific index in a list\n",
    "def insert_element(lst, index, element):\n",
    "    lst = lst[:index] + [element] + lst[index:]  # Slicing to insert\n",
    "    return lst"
   ]
  },
  {
   "cell_type": "code",
   "execution_count": null,
   "id": "5cf5d7b7-192b-4473-862a-8873833d6246",
   "metadata": {},
   "outputs": [],
   "source": [
    "# 5. Remove an element from a list by its value\n",
    "def remove_by_value(lst, value):\n",
    "    if value in lst:\n",
    "        lst.remove(value)\n",
    "    return lst"
   ]
  },
  {
   "cell_type": "code",
   "execution_count": null,
   "id": "3e8bfcf9-08d1-433f-bf68-a6fd32cb70ba",
   "metadata": {},
   "outputs": [],
   "source": [
    "# 6. Remove an element from a list by its index\n",
    "def remove_by_index(lst, index):\n",
    "    if 0 <= index < len(lst):\n",
    "        lst = lst[:index] + lst[index + 1:]  # Slicing to remove\n",
    "    return lst"
   ]
  },
  {
   "cell_type": "code",
   "execution_count": null,
   "id": "41a3c045-2191-442d-9524-c32d1f3f1e1e",
   "metadata": {},
   "outputs": [],
   "source": [
    "\n",
    "# 7. Check if an element exists in a list\n",
    "def exists_in_list(lst, element):\n",
    "    return element in lst"
   ]
  },
  {
   "cell_type": "code",
   "execution_count": null,
   "id": "e59af071-2b3c-45a9-97d7-77b993655205",
   "metadata": {},
   "outputs": [],
   "source": [
    "# 8. Find the index of the first occurrence of an element in a list\n",
    "def index_of_element(lst, element):\n",
    "    for index, value in enumerate(lst):\n",
    "        if value == element:\n",
    "            return index\n",
    "    return -1  # Return -1 if not found"
   ]
  },
  {
   "cell_type": "code",
   "execution_count": null,
   "id": "b7d9f08b-e686-4293-aa00-042b75f3d2e5",
   "metadata": {},
   "outputs": [],
   "source": [
    "# 9. Count the occurrences of an element in a list\n",
    "def count_occurrences(lst, element):\n",
    "    count = 0\n",
    "    for value in lst:\n",
    "        if value == element:\n",
    "            count += 1\n",
    "    return count\n"
   ]
  },
  {
   "cell_type": "code",
   "execution_count": null,
   "id": "4398985a-8fae-4a8f-99f8-82c79a1a75a5",
   "metadata": {},
   "outputs": [],
   "source": [
    "# 10. Reverse the order of elements in a list\n",
    "def reverse_list(lst):\n",
    "    return lst[::-1]  # Slicing to reverse the list"
   ]
  },
  {
   "cell_type": "code",
   "execution_count": null,
   "id": "4fdd01df-34d2-4204-9d3f-d99341c2d907",
   "metadata": {},
   "outputs": [],
   "source": [
    "# 11. Sort a list in ascending order\n",
    "def sort_ascending(lst):\n",
    "    return sorted(lst)"
   ]
  },
  {
   "cell_type": "code",
   "execution_count": null,
   "id": "596731c1-42e0-43d2-930a-7e700b96b31f",
   "metadata": {},
   "outputs": [],
   "source": [
    "# 12. Sort a list in descending order\n",
    "def sort_descending(lst):\n",
    "    return sorted(lst, reverse=True)"
   ]
  },
  {
   "cell_type": "code",
   "execution_count": null,
   "id": "778982af-ddae-49ad-92af-52f25fb536e6",
   "metadata": {},
   "outputs": [],
   "source": [
    "# 13. Create a list of even numbers from 1 to 20\n",
    "def create_even_numbers():\n",
    "    return [num for num in range(1, 21) if num % 2 == 0]"
   ]
  },
  {
   "cell_type": "code",
   "execution_count": null,
   "id": "a867beda-7db1-4331-9730-759f8d28cdad",
   "metadata": {},
   "outputs": [],
   "source": [
    "# 14. Create a list of odd numbers from 1 to 20\n",
    "def create_odd_numbers():\n",
    "    return [num for num in range(1, 21) if num % 2 != 0]\n"
   ]
  },
  {
   "cell_type": "code",
   "execution_count": null,
   "id": "6d3d93a4-d5f4-4420-833b-0b67eadd0e00",
   "metadata": {},
   "outputs": [],
   "source": [
    "# 15. Find the sum of all elements in a list\n",
    "def sum_of_elements(lst):\n",
    "    total = 0\n",
    "    for value in lst:\n",
    "        total += value\n",
    "    return total"
   ]
  },
  {
   "cell_type": "code",
   "execution_count": null,
   "id": "4a691b9c-d46a-42a1-8c43-c3ea964ee170",
   "metadata": {},
   "outputs": [],
   "source": [
    "# 16. Find the maximum value in a list\n",
    "def max_value(lst):\n",
    "    if not lst:\n",
    "        return None\n",
    "    max_val = lst[0]\n",
    "    for value in lst:\n",
    "        if value > max_val:\n",
    "            max_val = value\n",
    "    return max_val"
   ]
  },
  {
   "cell_type": "code",
   "execution_count": null,
   "id": "f409b4c7-1d0a-451f-8c1c-7447e1e0d276",
   "metadata": {},
   "outputs": [],
   "source": [
    "# 17. Find the minimum value in a list\n",
    "def min_value(lst):\n",
    "    if not lst:\n",
    "        return None\n",
    "    min_val = lst[0]\n",
    "    for value in lst:\n",
    "        if value < min_val:\n",
    "            min_val = value\n",
    "    return min_val"
   ]
  },
  {
   "cell_type": "code",
   "execution_count": null,
   "id": "c4c0d60c-60fe-4a61-b2ba-fc2aedd0aa50",
   "metadata": {},
   "outputs": [],
   "source": [
    "# 18. Create a list of squares of numbers from 1 to 10\n",
    "def create_squares():\n",
    "    return [num ** 2 for num in range(1, 11)]"
   ]
  },
  {
   "cell_type": "code",
   "execution_count": null,
   "id": "d87c9949-2230-4bd3-989a-38feb4be1468",
   "metadata": {},
   "outputs": [],
   "source": [
    "# 19. Create a list of random numbers\n",
    "def create_random_numbers(size=10, lower=1, upper=100):\n",
    "    return [random.randint(lower, upper) for _ in range(size)]"
   ]
  },
  {
   "cell_type": "code",
   "execution_count": null,
   "id": "dcbe8938-04a0-404c-b854-3b4ace71c943",
   "metadata": {},
   "outputs": [],
   "source": [
    "# 20. Remove duplicates from a list\n",
    "def remove_duplicates(lst):\n",
    "    return list(set(lst))\n"
   ]
  },
  {
   "cell_type": "code",
   "execution_count": null,
   "id": "f69bd69f-d2a0-4aad-a57f-4f7a2d2bb298",
   "metadata": {},
   "outputs": [],
   "source": [
    "# 21. Find the common elements between two lists\n",
    "def common_elements(list1, list2):\n",
    "    return list(set(list1) & set(list2))"
   ]
  },
  {
   "cell_type": "code",
   "execution_count": null,
   "id": "05d61309-154b-4fda-8968-2caa1d6083cd",
   "metadata": {},
   "outputs": [],
   "source": [
    "# 22. Find the difference between two lists\n",
    "def difference_between_lists(list1, list2):\n",
    "    return list(set(list1) - set(list2))"
   ]
  },
  {
   "cell_type": "code",
   "execution_count": null,
   "id": "4f78b7db-14ad-462b-ad00-bc27f6ed02d2",
   "metadata": {},
   "outputs": [],
   "source": [
    "# 23. Merge two lists\n",
    "def merge_lists(list1, list2):\n",
    "    return list1 + list2"
   ]
  },
  {
   "cell_type": "code",
   "execution_count": null,
   "id": "3e6fc886-5ec6-4f54-bf2b-ce8adeb2bafc",
   "metadata": {},
   "outputs": [],
   "source": [
    "# 24. Multiply all elements in a list by 2\n",
    "def multiply_by_two(lst):\n",
    "    return [x * 2 for x in lst]"
   ]
  },
  {
   "cell_type": "code",
   "execution_count": null,
   "id": "6385aa09-cb3c-439c-9f8c-b025bace69a1",
   "metadata": {},
   "outputs": [],
   "source": [
    "# 25. Filter out all even numbers from a list\n",
    "def filter_even_numbers(lst):\n",
    "    return [x for x in lst if x % 2 != 0]"
   ]
  },
  {
   "cell_type": "code",
   "execution_count": null,
   "id": "f39da459-076d-4082-a01d-354d4af08314",
   "metadata": {},
   "outputs": [],
   "source": [
    "import random "
   ]
  },
  {
   "cell_type": "code",
   "execution_count": null,
   "id": "b3bd75f3-bd53-4c49-b1a7-64df4ccb1486",
   "metadata": {},
   "outputs": [],
   "source": [
    "# 26. Convert a list of strings to a list of integers\n",
    "def strings_to_integers(lst):\n",
    "    return [int(x) for x in lst]\n",
    "    "
   ]
  },
  {
   "cell_type": "code",
   "execution_count": null,
   "id": "cb134ddb-a748-4816-8cc9-7dc63fb7f917",
   "metadata": {},
   "outputs": [],
   "source": [
    "# 27. Convert a list of integers to a list of strings\n",
    "def integers_to_strings(lst):\n",
    "    return [str(x) for x in lst]"
   ]
  },
  {
   "cell_type": "code",
   "execution_count": null,
   "id": "be630b82-8a64-497f-a237-eb9e16ba438b",
   "metadata": {},
   "outputs": [],
   "source": [
    "# 28. Flatten a nested list\n",
    "def flatten_nested_list(nested_lst):\n",
    "    flat_list = []\n",
    "    for sublist in nested_lst:\n",
    "        for item in sublist:\n",
    "            flat_list.append(item)\n",
    "    return flat_list"
   ]
  },
  {
   "cell_type": "code",
   "execution_count": null,
   "id": "89283014-a54e-445d-a2ea-2a940bdddd82",
   "metadata": {},
   "outputs": [],
   "source": [
    "# 29. Create a list of the first 10 Fibonacci numbers\n",
    "def fibonacci_numbers(n=10):\n",
    "    fib_list = [0, 1]\n",
    "    for i in range(2, n):\n",
    "        fib_list.append(fib_list[-1] + fib_list[-2])\n",
    "    return fib_list[:n]"
   ]
  },
  {
   "cell_type": "code",
   "execution_count": null,
   "id": "ff94f700-aa5d-4494-81a7-92c7f2f4b16d",
   "metadata": {},
   "outputs": [],
   "source": [
    "# 30. Check if a list is sorted\n",
    "def is_sorted(lst):\n",
    "    return lst == sorted(lst)"
   ]
  },
  {
   "cell_type": "code",
   "execution_count": null,
   "id": "c6856842-e5e3-40a6-b461-bdb1e7fbea84",
   "metadata": {},
   "outputs": [],
   "source": [
    "# 31. Rotate a list to the left by `n` positions\n",
    "def rotate_left(lst, n):\n",
    "    n = n % len(lst)  # Handle rotation greater than list length\n",
    "    return lst[n:] + lst[:n]"
   ]
  },
  {
   "cell_type": "code",
   "execution_count": null,
   "id": "dba972db-2873-470a-901c-c3c27112061b",
   "metadata": {},
   "outputs": [],
   "source": [
    "# 32. Rotate a list to the right by `n` positions\n",
    "def rotate_right(lst, n):\n",
    "    n = n % len(lst)  # Handle rotation greater than list length\n",
    "    return lst[-n:] + lst[:-n]"
   ]
  },
  {
   "cell_type": "code",
   "execution_count": null,
   "id": "7c43a550-0737-4d7b-aa45-7d676bee38bf",
   "metadata": {},
   "outputs": [],
   "source": [
    "# 33. Create a list of prime numbers up to 50\n",
    "def prime_numbers_up_to_50():\n",
    "    primes = []\n",
    "    for num in range(2, 51):\n",
    "        for i in range(2, int(num**0.5) + 1):\n",
    "            if num % i == 0:\n",
    "                break\n",
    "        else:\n",
    "            primes.append(num)\n",
    "    return primes"
   ]
  },
  {
   "cell_type": "code",
   "execution_count": null,
   "id": "10d3eb2e-e4dd-42e4-9f82-21f0a9d089a1",
   "metadata": {},
   "outputs": [],
   "source": [
    "\n",
    "# 34. Split a list into chunks of size `n`\n",
    "def split_into_chunks(lst, n):\n",
    "    return [lst[i:i + n] for i in range(0, len(lst), n)]"
   ]
  },
  {
   "cell_type": "code",
   "execution_count": null,
   "id": "a1a770aa-368e-4fc3-8819-f7d35dccb16d",
   "metadata": {},
   "outputs": [],
   "source": [
    "# 35. Find the second largest number in a list\n",
    "def second_largest(lst):\n",
    "    unique_numbers = list(set(lst))\n",
    "    if len(unique_numbers) < 2:\n",
    "        return None\n",
    "    unique_numbers.sort()\n",
    "    return unique_numbers[-2]"
   ]
  },
  {
   "cell_type": "code",
   "execution_count": null,
   "id": "c7e10a49-7f7a-4010-9498-98c76d4610b8",
   "metadata": {},
   "outputs": [],
   "source": [
    "# 36. Replace every element in a list with its square\n",
    "def replace_with_square(lst):\n",
    "    return [x ** 2 for x in lst]"
   ]
  },
  {
   "cell_type": "code",
   "execution_count": null,
   "id": "a3ab1a12-946e-419e-8d16-517b6810724c",
   "metadata": {},
   "outputs": [],
   "source": [
    "# 37. Convert a list to a dictionary where list elements become keys and their indices become values\n",
    "def list_to_dict(lst):\n",
    "    return {value: index for index, value in enumerate(lst)}"
   ]
  },
  {
   "cell_type": "code",
   "execution_count": null,
   "id": "dd419b3c-efcd-4b5c-8d59-d3e63f7daf7f",
   "metadata": {},
   "outputs": [],
   "source": [
    "# 38. Shuffle the elements of a list randomly\n",
    "def shuffle_list(lst):\n",
    "    random.shuffle(lst)\n",
    "    return lst\n",
    "    "
   ]
  },
  {
   "cell_type": "code",
   "execution_count": null,
   "id": "b74e0600-e268-4d59-bea1-c28fbef12982",
   "metadata": {},
   "outputs": [],
   "source": [
    "# 39. Create a list of the first 10 factorial numbers\n",
    "def factorial_numbers(n=10):\n",
    "    factorials = []\n",
    "    fact = 1\n",
    "    for i in range(1, n + 1):\n",
    "        fact *= i\n",
    "        factorials.append(fact)\n",
    "    return factorials"
   ]
  },
  {
   "cell_type": "code",
   "execution_count": null,
   "id": "cb8d59b9-e7b6-49b2-a5da-c828405bf6ee",
   "metadata": {},
   "outputs": [],
   "source": [
    "# 40. Check if two lists have at least one element in common\n",
    "def have_common_elements(list1, list2):\n",
    "    return bool(set(list1) & set(list2))"
   ]
  },
  {
   "cell_type": "code",
   "execution_count": null,
   "id": "84f4a160-8657-4cf8-8a86-724b282c30fd",
   "metadata": {},
   "outputs": [],
   "source": [
    "# 41. Remove all elements from a list\n",
    "def remove_all_elements(lst):\n",
    "    lst.clear()  # Clears the list\n",
    "    return lst"
   ]
  },
  {
   "cell_type": "code",
   "execution_count": null,
   "id": "12261008-3284-4233-8f4d-fccf16b12bec",
   "metadata": {},
   "outputs": [],
   "source": [
    "# 42. Replace negative numbers in a list with 0\n",
    "def replace_negatives_with_zero(lst):\n",
    "    return [max(0, x) for x in lst]"
   ]
  },
  {
   "cell_type": "code",
   "execution_count": null,
   "id": "51775b9d-6527-4b01-933a-d22e157c0ed1",
   "metadata": {},
   "outputs": [],
   "source": [
    "# 43. Convert a string into a list of words\n",
    "def string_to_word_list(string):\n",
    "    return string.split()"
   ]
  },
  {
   "cell_type": "code",
   "execution_count": null,
   "id": "e75fb012-ad5d-4972-9175-8f3154dae83c",
   "metadata": {},
   "outputs": [],
   "source": [
    "# 44. Convert a list of words into a string\n",
    "def word_list_to_string(word_list):\n",
    "    return ' '.join(word_list)"
   ]
  },
  {
   "cell_type": "code",
   "execution_count": null,
   "id": "57265368-cb71-464e-93ab-a5be658658e1",
   "metadata": {},
   "outputs": [],
   "source": [
    "# 45. Create a list of the first `n` powers of 2\n",
    "def powers_of_two(n):\n",
    "    return [2 ** i for i in range(n)]"
   ]
  },
  {
   "cell_type": "code",
   "execution_count": null,
   "id": "bcfd0d30-a701-4ef9-b95b-e6145c0209e5",
   "metadata": {},
   "outputs": [],
   "source": [
    "# 46. Find the longest string in a list of strings\n",
    "def longest_string(strings):\n",
    "    return max(strings, key=len) if strings else None"
   ]
  },
  {
   "cell_type": "code",
   "execution_count": null,
   "id": "1689d673-12b6-4a40-a8fb-ca7dd8ed8959",
   "metadata": {},
   "outputs": [],
   "source": [
    "# 47. Find the shortest string in a list of strings\n",
    "def shortest_string(strings):\n",
    "    return min(strings, key=len) if strings else None"
   ]
  },
  {
   "cell_type": "code",
   "execution_count": null,
   "id": "0c7c1380-af57-4a0d-9a4b-e9a659fe6bc7",
   "metadata": {},
   "outputs": [],
   "source": [
    "# 48. Create a list of the first `n` triangular numbers\n",
    "def triangular_numbers(n):\n",
    "    return [(i * (i + 1)) // 2 for i in range(1, n + 1)]"
   ]
  },
  {
   "cell_type": "code",
   "execution_count": null,
   "id": "c51081e1-c835-4655-8a2b-94debe5b70ab",
   "metadata": {},
   "outputs": [],
   "source": [
    "# 49. Check if a list contains another list as a subsequence\n",
    "def contains_subsequence(lst, subseq):\n",
    "    it = iter(lst)\n",
    "    return all(any(x == y for x in it) for y in subseq)"
   ]
  },
  {
   "cell_type": "code",
   "execution_count": null,
   "id": "da9a9415-7c9a-4120-985a-31b45bba73c3",
   "metadata": {},
   "outputs": [],
   "source": [
    "# 50. Swap two elements in a list by their indices\n",
    "def swap_elements(lst, index1, index2):\n",
    "    if index1 < 0 or index1 >= len(lst) or index2 < 0 or index2 >= len(lst):\n",
    "        raise IndexError(\"Index out of range.\")\n",
    "    lst[index1], lst[index2] = lst[index2], lst[index1]  # Swap the elements\n",
    "    return lst\n",
    "# Example usage\n",
    "example_list = [10, 20, 30, 40, 50]\n",
    "print(\"Original List:\", example_list)\n",
    "swapped_list = swap_elements(example_list, 1, 3)  # Swapping elements at indices 1 and 3\n",
    "print(\"List After Swapping:\", swapped_list)  # Output: [10, 40, 30, 20, 50]"
   ]
  },
  {
   "cell_type": "code",
   "execution_count": null,
   "id": "f974ea7f-3a79-4e20-a1fe-4f20aeb63009",
   "metadata": {},
   "outputs": [],
   "source": []
  },
  {
   "cell_type": "code",
   "execution_count": null,
   "id": "cfe3a79a-247a-4788-b87b-dca7d80a1c91",
   "metadata": {},
   "outputs": [],
   "source": [
    "### TUPLE-BASED PRACTICE PROBLEM"
   ]
  },
  {
   "cell_type": "code",
   "execution_count": null,
   "id": "ac2754d4-c1e6-4b1e-b86e-5a0937e1c360",
   "metadata": {},
   "outputs": [],
   "source": [
    "#1. Create a tuple with integers from 1 to 5.\n",
    "#2. Access the third element of a tuple.\n",
    "#3. Find the length of a tuple without using the `len()` function.\n",
    "#4. Count the occurrences of an element in a tuple.\n",
    "#5. Find the index of the first occurrence of an element in a tuple.\n",
    "#6. Check if an element exists in a tuple.\n",
    "#7. Convert a tuple to a list.\n",
    "#8. Convert a list to a tuple.\n",
    "#9. Unpack the elements of a tuple into variables.\n",
    "#10. Create a tuple of even numbers from 1 to 10.\n",
    "#11. Create a tuple of odd numbers from 1 to 10.\n",
    "#12. Concatenate two tuples.\n",
    "#13. Repeat a tuple three times.\n",
    "#14. Check if a tuple is empty.\n",
    "#15. Create a nested tuple.\n",
    "#16. Access the first element of a nested tuple.\n",
    "#17. Create a tuple with a single element.\n",
    "#18. Compare two tuples.\n",
    "#19. Delete a tuple.\n",
    "#20. Slice a tuple.\n",
    "#21. Find the maximum value in a tuple.\n",
    "#22. Find the minimum value in a tuple.\n",
    "#23. Convert a string to a tuple of characters.\n",
    "#24. Convert a tuple of characters to a string.\n",
    "#25. Create a tuple from multiple data types.\n",
    "#26. Check if two tuples are identical.\n",
    "#27. Sort the elements of a tuple.\n",
    "#28. Convert a tuple of integers to a tuple of strings.\n",
    "#29. Convert a tuple of strings to a tuple of integers.\n",
    "#30. Merge two tuples.\n",
    "#31. Flatten a nested tuple.\n",
    "#32. Create a tuple of the first 5 prime numbers.\n",
    "#33. Check if a tuple is a palindrome.\n",
    "#34. Create a tuple of squares of numbers from 1 to 5.\n",
    "#35. Filter out all even numbers from a tuple.\n",
    "#36. Multiply all elements in a tuple by 2.\n",
    "#37. Create a tuple of random numbers.\n",
    "#38. Check if a tuple is sorted.\n",
    "#39. Rotate a tuple to the left by `n` positions.\n",
    "#40. Rotate a tuple to the right by `n` positions.\n",
    "#41. Create a tuple of the first 5 Fibonacci numbers.\n",
    "#42. Create a tuple from user input.\n",
    "#43. Swap two elements in a tuple.\n",
    "#44. Reverse the elements of a tuple.\n",
    "#45. Create a tuple of the first `n` powers of 2.\n",
    "#46. Find the longest string in a tuple of strings.\n",
    "#47. Find the shortest string in a tuple of strings.\n",
    "#48. Create a tuple of the first `n` triangular numbers.\n",
    "#49. Check if a tuple contains another tuple as a subsequence.\n",
    "#50. Create a tuple of alternating 1s and 0s of length `n`."
   ]
  },
  {
   "cell_type": "code",
   "execution_count": null,
   "id": "33d67266-2aba-492a-abcd-1cadcd9e39ad",
   "metadata": {},
   "outputs": [],
   "source": [
    "# 1. Create a tuple with integers from 1 to 5\n",
    "def create_tuple():\n",
    "    return tuple(range(1, 6))"
   ]
  },
  {
   "cell_type": "code",
   "execution_count": null,
   "id": "0e95e564-558d-4beb-a10e-e8ab5ba539f2",
   "metadata": {},
   "outputs": [],
   "source": [
    "# 2. Access the third element of a tuple\n",
    "def access_third_element(tpl):\n",
    "    return tpl[2] if len(tpl) >= 3 else None  # Check if the tuple has at least 3 elements\n"
   ]
  },
  {
   "cell_type": "code",
   "execution_count": null,
   "id": "bd1408bf-1513-4251-a85d-28cda9f8f20e",
   "metadata": {},
   "outputs": [],
   "source": [
    "# 3. Find the length of a tuple without using the `len()` function\n",
    "def tuple_length(tpl):\n",
    "    count = 0\n",
    "    for _ in tpl:\n",
    "        count += 1\n",
    "    return coun\n",
    "    #For example\n",
    "    print(\"Length of Tuple:\", tuple_length(tuple_example))"
   ]
  },
  {
   "cell_type": "code",
   "execution_count": null,
   "id": "50a0d9a5-e529-406c-90b4-5f6e9546ea04",
   "metadata": {},
   "outputs": [],
   "source": [
    "# 4. Count the occurrences of an element in a tuple\n",
    "def count_occurrences(tpl, element):\n",
    "    count = 0\n",
    "    for item in tpl:\n",
    "        if item == element:\n",
    "            count += 1\n",
    "    return count\n",
    "    #FOR EXAMPLE\n",
    "    print(\"Occurrences of 2:\", count_occurrences(tuple_example, 2)) "
   ]
  },
  {
   "cell_type": "code",
   "execution_count": null,
   "id": "c7f840dd-cc9b-4292-a899-0e1feccd4952",
   "metadata": {},
   "outputs": [],
   "source": [
    "# 5. Find the index of the first occurrence of an element in a tuple\n",
    "def index_of_element(tpl, element):\n",
    "    try:\n",
    "        return tpl.index(element)\n",
    "    except ValueError:\n",
    "        return -1  # Return -1 if the element is not found"
   ]
  },
  {
   "cell_type": "code",
   "execution_count": null,
   "id": "cfe5c979-f1cb-4c08-aa09-675d12dc414f",
   "metadata": {},
   "outputs": [],
   "source": [
    "# 6. Check if an element exists in a tuple\n",
    "def element_exists(tpl, element):\n",
    "    return element in tpl"
   ]
  },
  {
   "cell_type": "code",
   "execution_count": null,
   "id": "c03c05fc-829d-499f-b5bc-6aa5c9d13539",
   "metadata": {},
   "outputs": [],
   "source": [
    "# 7. Convert a tuple to a list\n",
    "def tuple_to_list(tpl):\n",
    "    return list(tpl)"
   ]
  },
  {
   "cell_type": "code",
   "execution_count": null,
   "id": "896750fa-3c47-4b51-8586-b4546e54f4b4",
   "metadata": {},
   "outputs": [],
   "source": [
    "# 8. Convert a list to a tuple\n",
    "def list_to_tuple(lst):\n",
    "    return tuple(lst)"
   ]
  },
  {
   "cell_type": "code",
   "execution_count": null,
   "id": "47ab43c6-c5e3-4f9c-bcab-95dfc0b6ef7d",
   "metadata": {},
   "outputs": [],
   "source": [
    "# 9. Unpack the elements of a tuple into variables\n",
    "def unpack_tuple(tpl):\n",
    "    return tpl  # This can be done directly during assignment"
   ]
  },
  {
   "cell_type": "code",
   "execution_count": null,
   "id": "755b4cd5-6d82-46b8-8bff-28bdac524ad1",
   "metadata": {},
   "outputs": [],
   "source": [
    "# 10. Create a tuple of even numbers from 1 to 10\n",
    "def even_numbers_tuple():\n",
    "    return tuple(x for x in range(1, 11) if x % 2 == 0)"
   ]
  },
  {
   "cell_type": "code",
   "execution_count": null,
   "id": "f1d9343c-8e46-4d3b-82a2-b576b87110e9",
   "metadata": {},
   "outputs": [],
   "source": [
    "\n",
    "# 11. Create a tuple of odd numbers from 1 to 10\n",
    "def odd_numbers_tuple():\n",
    "    return tuple(x for x in range(1, 11) if x % 2 != 0)"
   ]
  },
  {
   "cell_type": "code",
   "execution_count": null,
   "id": "0421fe9a-7d04-4e29-ba12-2d6c4b87d17c",
   "metadata": {},
   "outputs": [],
   "source": [
    "# 12. Concatenate two tuples\n",
    "def concatenate_tuples(tpl1, tpl2):\n",
    "    return tpl1 + tpl2"
   ]
  },
  {
   "cell_type": "code",
   "execution_count": null,
   "id": "6edfc649-0bf5-4c75-8530-5fde3ee9889e",
   "metadata": {},
   "outputs": [],
   "source": [
    "# 13. Repeat a tuple three times\n",
    "def repeat_tuple(tpl):\n",
    "    return tpl * 3"
   ]
  },
  {
   "cell_type": "code",
   "execution_count": null,
   "id": "f1d0e95a-f4a9-4f62-9ff7-9c7886de5c19",
   "metadata": {},
   "outputs": [],
   "source": [
    "# 14. Check if a tuple is empty\n",
    "def is_empty_tuple(tpl):\n",
    "    return len(tpl) == 0\n"
   ]
  },
  {
   "cell_type": "code",
   "execution_count": null,
   "id": "4b2930d4-a04f-445a-ae15-1d70ac9193d3",
   "metadata": {},
   "outputs": [],
   "source": [
    "# 15. Create a nested tuple\n",
    "def create_nested_tuple():\n",
    "    return ((1, 2), (3, 4), (5, 6))"
   ]
  },
  {
   "cell_type": "code",
   "execution_count": null,
   "id": "65a3d601-b13f-4f42-adb9-47ed497bb03e",
   "metadata": {},
   "outputs": [],
   "source": [
    "# 16. Access the first element of a nested tuple\n",
    "def access_first_element_of_nested(tpl):\n",
    "    return tpl[0]"
   ]
  },
  {
   "cell_type": "code",
   "execution_count": null,
   "id": "185458a3-7dba-43fb-96d1-5522bf448d12",
   "metadata": {},
   "outputs": [],
   "source": [
    "# 17. Create a tuple with a single element\n",
    "def single_element_tuple(element):\n",
    "    return (element,)"
   ]
  },
  {
   "cell_type": "code",
   "execution_count": null,
   "id": "e6e4eb8c-a84e-43d9-9ebe-f108d0050edf",
   "metadata": {},
   "outputs": [],
   "source": [
    "# 18. Compare two tuples\n",
    "def compare_tuples(tpl1, tpl2):\n",
    "    return tpl1 == tp"
   ]
  },
  {
   "cell_type": "code",
   "execution_count": null,
   "id": "ae524239-a4bb-40b1-afa9-fa9f54871d60",
   "metadata": {},
   "outputs": [],
   "source": [
    "# 19. Delete a tuple\n",
    "def delete_tuple(tpl_name):\n",
    "    del tpl_name  # This will delete the tuple reference"
   ]
  },
  {
   "cell_type": "code",
   "execution_count": null,
   "id": "25a2d0d7-2634-4f05-b7be-b50aa02562ad",
   "metadata": {},
   "outputs": [],
   "source": [
    "# 20. Slice a tuple\n",
    "def slice_tuple(tpl, start, end):\n",
    "    return tpl[start:end]"
   ]
  },
  {
   "cell_type": "code",
   "execution_count": null,
   "id": "0d4ec87e-bef7-40a1-ab6c-422105d35c2a",
   "metadata": {},
   "outputs": [],
   "source": [
    "# 21. Find the maximum value in a tuple\n",
    "def max_in_tuple(tpl):\n",
    "    return max(tpl)"
   ]
  },
  {
   "cell_type": "code",
   "execution_count": null,
   "id": "6dcf4753-bbf6-4774-9d1d-5a110a62556c",
   "metadata": {},
   "outputs": [],
   "source": [
    "# 22. Find the minimum value in a tuple\n",
    "def min_in_tuple(tpl):\n",
    "    return min(tpl)"
   ]
  },
  {
   "cell_type": "code",
   "execution_count": null,
   "id": "f63a5481-3504-4767-90b8-d4b931b3af8f",
   "metadata": {},
   "outputs": [],
   "source": [
    "\n",
    "# 23. Convert a string to a tuple of characters\n",
    "def string_to_tuple(s):\n",
    "    return tuple(s)"
   ]
  },
  {
   "cell_type": "code",
   "execution_count": null,
   "id": "a006c3af-5615-40dd-b880-2c33b35e0d89",
   "metadata": {},
   "outputs": [],
   "source": [
    "\n",
    "# 24. Convert a tuple of characters to a string\n",
    "def tuple_to_string(tpl):\n",
    "    return ''.join(tpl)"
   ]
  },
  {
   "cell_type": "code",
   "execution_count": null,
   "id": "a9430256-6555-415b-8fc2-e9ffc229b69e",
   "metadata": {},
   "outputs": [],
   "source": [
    "# 25. Create a tuple from multiple data types\n",
    "def mixed_type_tuple():\n",
    "    return (1, 'hello', 3.14, True)"
   ]
  },
  {
   "cell_type": "code",
   "execution_count": null,
   "id": "fc289c8a-2c5c-4ae6-9aa8-19a6ea4a762a",
   "metadata": {},
   "outputs": [],
   "source": [
    "# 26. Check if two tuples are identical\n",
    "def are_tuples_identical(tpl1, tpl2):\n",
    "    return tpl1 == tpl2"
   ]
  },
  {
   "cell_type": "code",
   "execution_count": null,
   "id": "317784f2-ad9d-4ffc-abd0-6ca5db5759a0",
   "metadata": {},
   "outputs": [],
   "source": [
    "# 27. Sort the elements of a tuple\n",
    "def sorted_tuple(tpl):\n",
    "    return tuple(sorted(tpl))"
   ]
  },
  {
   "cell_type": "code",
   "execution_count": null,
   "id": "5f2144ed-f921-4dfc-b692-ac53c9f3c230",
   "metadata": {},
   "outputs": [],
   "source": [
    "# 28. Convert a tuple of integers to a tuple of strings\n",
    "def int_tuple_to_str_tuple(tpl):\n",
    "    return tuple(str(x) for x in tpl)"
   ]
  },
  {
   "cell_type": "code",
   "execution_count": null,
   "id": "7ef6e64e-9aa5-408b-8999-2fcdfe8a875c",
   "metadata": {},
   "outputs": [],
   "source": [
    "# 29. Convert a tuple of strings to a tuple of integers\n",
    "def str_tuple_to_int_tuple(tpl):\n",
    "    return tuple(int(x) for x in tpl)"
   ]
  },
  {
   "cell_type": "code",
   "execution_count": null,
   "id": "545d8402-7004-4c58-a86a-9cc1b4ab190a",
   "metadata": {},
   "outputs": [],
   "source": [
    "# 30. Merge two tuples\n",
    "def merge_tuples(tpl1, tpl2):\n",
    "    return tpl1 + tpl2"
   ]
  },
  {
   "cell_type": "code",
   "execution_count": null,
   "id": "1f1a2854-2b50-4cfa-aec5-042d925eec28",
   "metadata": {},
   "outputs": [],
   "source": [
    "# 31. Flatten a nested tuple\n",
    "def flatten_nested_tuple(nested_tpl):\n",
    "    flat_list = []\n",
    "    for item in nested_tpl:\n",
    "        if isinstance(item, tuple):\n",
    "            flat_list.extend(flatten_nested_tuple(item))  # Recursively flatten\n",
    "        else:\n",
    "            flat_list.append(item)\n",
    "    return tuple(flat_list)"
   ]
  },
  {
   "cell_type": "code",
   "execution_count": null,
   "id": "26010f41-6f0c-4d11-8122-09143d3b4657",
   "metadata": {},
   "outputs": [],
   "source": [
    "# 32. Create a tuple of the first 5 prime numbers\n",
    "def first_five_primes():\n",
    "    return (2, 3, 5, 7, 11)"
   ]
  },
  {
   "cell_type": "code",
   "execution_count": null,
   "id": "db9c0faf-b37f-4f89-b103-f40c3edc8bad",
   "metadata": {},
   "outputs": [],
   "source": [
    "# 33. Check if a tuple is a palindrome\n",
    "def is_palindrome(tpl):\n",
    "    return tpl == tpl[::-1]"
   ]
  },
  {
   "cell_type": "code",
   "execution_count": null,
   "id": "143a6e3e-8ed7-42f9-b73d-1e2be8eb9c06",
   "metadata": {},
   "outputs": [],
   "source": [
    "# 34. Create a tuple of squares of numbers from 1 to 5\n",
    "def squares_tuple():\n",
    "    return tuple(x**2 for x in range(1, 6))"
   ]
  },
  {
   "cell_type": "code",
   "execution_count": null,
   "id": "d4119e19-30a6-4109-993b-70a1b54d2de0",
   "metadata": {},
   "outputs": [],
   "source": [
    "# 35. Filter out all even numbers from a tuple\n",
    "def filter_even_numbers(tpl):\n",
    "    return tuple(x for x in tpl if x % 2 != 0)"
   ]
  },
  {
   "cell_type": "code",
   "execution_count": null,
   "id": "dbe6b02e-e062-4e58-9394-6701a87529fd",
   "metadata": {},
   "outputs": [],
   "source": [
    "# 36. Multiply all elements in a tuple by 2\n",
    "def multiply_tuple_elements(tpl):\n",
    "    return tuple(x * 2 for x in tpl)"
   ]
  },
  {
   "cell_type": "code",
   "execution_count": null,
   "id": "3d68be03-3619-4963-a326-5da7c1a9b084",
   "metadata": {},
   "outputs": [],
   "source": [
    "import random"
   ]
  },
  {
   "cell_type": "code",
   "execution_count": null,
   "id": "68137b1a-4cf3-4cda-8c22-4775d8325515",
   "metadata": {},
   "outputs": [],
   "source": [
    "# 37. Create a tuple of random numbers\n",
    "def random_numbers_tuple(size, lower_bound, upper_bound):\n",
    "    return tuple(random.randint(lower_bound, upper_bound) for _ in range(size))\n"
   ]
  },
  {
   "cell_type": "code",
   "execution_count": null,
   "id": "72b0756a-2f25-40d5-99bb-c7151b5593f6",
   "metadata": {},
   "outputs": [],
   "source": [
    "# 38. Check if a tuple is sorted\n",
    "def is_sorted(tpl):\n",
    "    return tpl == tuple(sorted(tpl))"
   ]
  },
  {
   "cell_type": "code",
   "execution_count": null,
   "id": "e1653c47-ef04-4f3d-8d9b-25bd09fab954",
   "metadata": {},
   "outputs": [],
   "source": [
    "# 39. Rotate a tuple to the left by `n` positions\n",
    "def rotate_left(tpl, n):\n",
    "    n = n % len(tpl)  # Handle cases where n is larger than the tuple length\n",
    "    return tpl[n:] + tpl[:n]"
   ]
  },
  {
   "cell_type": "code",
   "execution_count": null,
   "id": "f5cca9ee-f08b-4ada-8b56-60101682b072",
   "metadata": {},
   "outputs": [],
   "source": [
    "# 40. Rotate a tuple to the right by `n` positions\n",
    "def rotate_right(tpl, n):\n",
    "    n = n % len(tpl)  # Handle cases where n is larger than the tuple length\n",
    "    return tpl[-n:] + tpl[:-n]"
   ]
  },
  {
   "cell_type": "code",
   "execution_count": null,
   "id": "776c4fd3-21a5-4c1a-ba50-2ea879a122d9",
   "metadata": {},
   "outputs": [],
   "source": [
    "# 41. Create a tuple of the first 5 Fibonacci numbers\n",
    "def fibonacci_tuple():\n",
    "    fib = [0, 1]\n",
    "    for i in range(2, 5):\n",
    "        fib.append(fib[-1] + fib[-2])\n",
    "    return tuple(fib)"
   ]
  },
  {
   "cell_type": "code",
   "execution_count": null,
   "id": "fb02504e-d514-4e7c-b268-bb5dc742bc25",
   "metadata": {},
   "outputs": [],
   "source": [
    "# 42. Create a tuple from user input\n",
    "def tuple_from_input():\n",
    "    user_input = input(\"Enter elements separated by commas: \")\n",
    "    return tuple(user_input.split(','))"
   ]
  },
  {
   "cell_type": "code",
   "execution_count": null,
   "id": "b66eb195-f2d2-4ae4-9f0d-26febd225daa",
   "metadata": {},
   "outputs": [],
   "source": [
    "# 43. Swap two elements in a tuple\n",
    "def swap_tuple_elements(tpl, index1, index2):\n",
    "    tpl_list = list(tpl)\n",
    "    tpl_list[index1], tpl_list[index2] = tpl_list[index2], tpl_list[index1]\n",
    "    return tuple(tpl_list)"
   ]
  },
  {
   "cell_type": "code",
   "execution_count": null,
   "id": "aeccedbd-c75b-4420-b010-12e43efe8dce",
   "metadata": {},
   "outputs": [],
   "source": [
    "# 44. Reverse the elements of a tuple\n",
    "def reverse_tuple(tpl):\n",
    "    return tpl[::-1]"
   ]
  },
  {
   "cell_type": "code",
   "execution_count": null,
   "id": "21158a88-cb3b-4ac5-9efa-3effdb37c42d",
   "metadata": {},
   "outputs": [],
   "source": [
    "# 45. Create a tuple of the first `n` powers of 2\n",
    "def powers_of_two_tuple(n):\n",
    "    return tuple(2**i for i in range(n))"
   ]
  },
  {
   "cell_type": "code",
   "execution_count": null,
   "id": "00c86146-4fca-4b23-b4fa-1a90230e059a",
   "metadata": {},
   "outputs": [],
   "source": [
    "# 46. Find the longest string in a tuple of strings\n",
    "def longest_string(tpl):\n",
    "    return max(tpl, key=len)"
   ]
  },
  {
   "cell_type": "code",
   "execution_count": null,
   "id": "8335cbcc-2541-4466-bd9b-b4bd22f009fc",
   "metadata": {},
   "outputs": [],
   "source": [
    "\n",
    "# 47. Find the shortest string in a tuple of strings\n",
    "def shortest_string(tpl):\n",
    "    return min(tpl, key=len)"
   ]
  },
  {
   "cell_type": "code",
   "execution_count": null,
   "id": "f0e36b3f-2aa9-462b-9853-8e015339065c",
   "metadata": {},
   "outputs": [],
   "source": [
    "# 48. Create a tuple of the first `n` triangular numbers\n",
    "def triangular_numbers_tuple(n):\n",
    "    return tuple(i * (i + 1) // 2 for i in range(1, n + 1))"
   ]
  },
  {
   "cell_type": "code",
   "execution_count": null,
   "id": "01e11f26-4fcf-4563-8163-0d7553604350",
   "metadata": {},
   "outputs": [],
   "source": [
    "# 49. Check if a tuple contains another tuple as a subsequence\n",
    "def contains_subsequence(tpl, subseq):\n",
    "    return any(tpl[i:i+len(subseq)] == subseq for i in range(len(tpl) - len(subseq) + 1))\n"
   ]
  },
  {
   "cell_type": "code",
   "execution_count": null,
   "id": "e2dd5d68-d31a-4efd-8af8-d7ec6354a578",
   "metadata": {},
   "outputs": [],
   "source": [
    "# 50. Create a tuple of alternating 1s and 0s of length `n`\n",
    "def alternating_tuple(n):\n",
    "    return tuple((i % 2) for i in range(n))"
   ]
  },
  {
   "cell_type": "code",
   "execution_count": null,
   "id": "19c52b12-328e-4769-ac3a-6b6784130ca0",
   "metadata": {},
   "outputs": [],
   "source": []
  },
  {
   "cell_type": "code",
   "execution_count": null,
   "id": "b257b333-da6d-476e-adc8-eb2375ebfdd8",
   "metadata": {},
   "outputs": [],
   "source": [
    "#### SET BASED PRACTICE PROBLEM"
   ]
  },
  {
   "cell_type": "code",
   "execution_count": null,
   "id": "26d496a9-aae2-46bf-b7a6-7640bc6974f5",
   "metadata": {},
   "outputs": [],
   "source": [
    "#1. Create a set with integers from 1 to 5.\n",
    "#2. Add an element to a set.\n",
    "#3. Remove an element from a set.\n",
    "#4. Check if an element exists in a set.\n",
    "#5. Find the length of a set without using the `len()` function.\n",
    "#6. Clear all elements from a set.\n",
    "#7. Create a set of even numbers from 1 to 10.\n",
    "#8. Create a set of odd numbers from 1 to 10.\n",
    "#9. Find the union of two sets.\n",
    "#10. Find the intersection of two sets.\n",
    "#11. Find the difference between two sets.\n",
    "#12. Check if a set is a subset of another set.\n",
    "#13. Check if a set is a superset of another set.\n",
    "#14. Create a set from a list.\n",
    "#15. Convert a set to a list.\n",
    "#16. Remove a random element from a set.\n",
    "#17. Pop an element from a set.\n",
    "#18. Check if two sets have no elements in common.\n",
    "#19. Find the symmetric difference between two sets.\n",
    "#20. Update a set with elements from another set.\n",
    "#21. Create a set of the first 5 prime numbers.\n",
    "#22. Check if two sets are identical.\n",
    "#23. Create a frozen set.\n",
    "#24. Check if a set is disjoint with another set.\n",
    "#25. Create a set of squares of numbers from 1 to 5.\n",
    "#26. Filter out all even numbers from a set.\n",
    "#27. Multiply all elements in a set by 2.\n",
    "#28. Create a set of random numbers.\n",
    "#29. Check if a set is empty.\n",
    "#30. Create a nested set (hint: use frozenset).\n",
    "#31. Remove an element from a set using the discard method.\n",
    "#32. Compare two sets.\n",
    "#33. Create a set from a string.\n",
    "#34. Convert a set of strings to a set of integers.\n",
    "#35. Convert a set of integers to a set of strings.\n",
    "#36. Create a set from a tuple.\n",
    "#37. Convert a set to a tuple.\n",
    "#38. Find the maximum value in a set.\n",
    "#39. Find the minimum value in a set.\n",
    "#40. Create a set from user input.\n",
    "#41. Check if the intersection of two sets is empty.\n",
    "#42. Create a set of the first 5 Fibonacci numbers.\n",
    "#43. Remove duplicates from a list using sets.\n",
    "#44. Check if two sets have the same elements, regardless of their count.\n",
    "#45. Create a set of the first `n` powers of 2.\n",
    "#46. Find the common elements between a set and a list.\n",
    "#47. Create a set of the first `n` triangular numbers.\n",
    "#48. Check if a set contains another set as a subset.\n",
    "#49. Create a set of alternating 1s and 0s of length `n`.\n",
    "#50. Merge multiple sets into one."
   ]
  },
  {
   "cell_type": "code",
   "execution_count": null,
   "id": "a3420959-0ba1-48f5-9e6f-3fdb1e167051",
   "metadata": {},
   "outputs": [],
   "source": [
    "# 1. Create a set with integers from 1 to 5\n",
    "def create_set():\n",
    "    return {1, 2, 3, 4, 5}"
   ]
  },
  {
   "cell_type": "code",
   "execution_count": null,
   "id": "bc6ea96c-f10f-4cd2-8da3-b12a65281f81",
   "metadata": {},
   "outputs": [],
   "source": [
    "# 2. Add an element to a set\n",
    "def add_element(s, element):\n",
    "    s.add(element)"
   ]
  },
  {
   "cell_type": "code",
   "execution_count": null,
   "id": "8474f558-55bf-4c5a-a884-4a4a6495a514",
   "metadata": {},
   "outputs": [],
   "source": [
    "# 3. Remove an element from a set\n",
    "def remove_element(s, element):\n",
    "    s.discard(element)  # Using discard to avoid KeyError if element doesn't exist\n"
   ]
  },
  {
   "cell_type": "code",
   "execution_count": null,
   "id": "d54bed3e-c46c-4f0c-a197-851e80d6609c",
   "metadata": {},
   "outputs": [],
   "source": [
    "# 4. Check if an element exists in a set\n",
    "def element_exists(s, element):\n",
    "    return element in s"
   ]
  },
  {
   "cell_type": "code",
   "execution_count": null,
   "id": "ae10c9f8-64fc-4046-a99c-9583a38a9be2",
   "metadata": {},
   "outputs": [],
   "source": [
    "\n",
    "# 5. Find the length of a set without using the `len()` function\n",
    "def length_of_set(s):\n",
    "    count = 0\n",
    "    for _ in s:\n",
    "        count += 1\n",
    "    return count"
   ]
  },
  {
   "cell_type": "code",
   "execution_count": null,
   "id": "d18f6d4f-1db4-41dd-882b-7b57eaf76c45",
   "metadata": {},
   "outputs": [],
   "source": [
    "# 6. Clear all elements from a set\n",
    "def clear_set(s):\n",
    "    s.clear()"
   ]
  },
  {
   "cell_type": "code",
   "execution_count": null,
   "id": "8ddfcba5-e78e-4b1d-aac6-77e2570a7cb2",
   "metadata": {},
   "outputs": [],
   "source": [
    "# 7. Create a set of even numbers from 1 to 10\n",
    "def even_numbers_set():\n",
    "    return {x for x in range(1, 11) if x % 2 == 0}"
   ]
  },
  {
   "cell_type": "code",
   "execution_count": null,
   "id": "d0f34ead-b668-46d6-85a2-f86824cc315f",
   "metadata": {},
   "outputs": [],
   "source": [
    "# 8. Create a set of odd numbers from 1 to 10\n",
    "def odd_numbers_set():\n",
    "    return {x for x in range(1, 11) if x % 2 != 0}"
   ]
  },
  {
   "cell_type": "code",
   "execution_count": null,
   "id": "40c28079-a440-4ecb-9afe-4e3d2867d1f2",
   "metadata": {},
   "outputs": [],
   "source": [
    "# 9. Find the union of two sets\n",
    "def union_of_sets(set1, set2):\n",
    "    return set1 | set2  # or set1.union(set2)\n"
   ]
  },
  {
   "cell_type": "code",
   "execution_count": null,
   "id": "01203f51-f4f1-4187-93d5-0e8fa917c2f7",
   "metadata": {},
   "outputs": [],
   "source": [
    "# 10. Find the intersection of two sets\n",
    "def intersection_of_sets(set1, set2):\n",
    "    return set1 & set2  # or set1.intersection(set2)"
   ]
  },
  {
   "cell_type": "code",
   "execution_count": null,
   "id": "5a0778ed-0f51-48a7-9c8b-71eee0c7890f",
   "metadata": {},
   "outputs": [],
   "source": [
    "# 11. Find the difference between two sets\n",
    "def difference_of_sets(set1, set2):\n",
    "    return set1 - set2  # or set1.difference(set2"
   ]
  },
  {
   "cell_type": "code",
   "execution_count": null,
   "id": "d74ebae7-9123-4a3d-895f-59344ed70471",
   "metadata": {},
   "outputs": [],
   "source": [
    "# 12. Check if a set is a subset of another set\n",
    "def is_subset(set1, set2):\n",
    "    return set1 <= set2  # or set1.issubset(set2)"
   ]
  },
  {
   "cell_type": "code",
   "execution_count": null,
   "id": "2643620b-ef17-41ef-bc51-063cd8dc95b8",
   "metadata": {},
   "outputs": [],
   "source": [
    "# 13. Check if a set is a superset of another set\n",
    "def is_superset(set1, set2):\n",
    "    return set1 >= set2  # or set1.issuperset(set2)"
   ]
  },
  {
   "cell_type": "code",
   "execution_count": null,
   "id": "3674aadd-6b8c-48b2-b6ed-141c3b0ec763",
   "metadata": {},
   "outputs": [],
   "source": [
    "# 14. Create a set from a list\n",
    "def set_from_list(lst):\n",
    "    return set(lst)"
   ]
  },
  {
   "cell_type": "code",
   "execution_count": null,
   "id": "0bdb8e30-1ed4-4b85-9823-4a67de9be0e7",
   "metadata": {},
   "outputs": [],
   "source": [
    "# 15. Convert a set to a list\n",
    "def set_to_list(s):\n",
    "    return list(s)"
   ]
  },
  {
   "cell_type": "code",
   "execution_count": null,
   "id": "9db3067a-cc44-4bfd-bd9f-0cf030a1fd4c",
   "metadata": {},
   "outputs": [],
   "source": [
    "import random"
   ]
  },
  {
   "cell_type": "code",
   "execution_count": null,
   "id": "b8a4b6d6-df01-4499-8fbf-c2aa5daec25d",
   "metadata": {},
   "outputs": [],
   "source": [
    "# 16. Remove a random element from a set\n",
    "def remove_random_element(s):\n",
    "    if s:  # Check if the set is not empty\n",
    "        element = random.choice(list(s))\n",
    "        s.remove(element)\n",
    "        return element\n",
    "    return None  # Return None if the set is empty"
   ]
  },
  {
   "cell_type": "code",
   "execution_count": null,
   "id": "f076acab-c0d8-4913-bb9e-cabd791672c9",
   "metadata": {},
   "outputs": [],
   "source": [
    "# 17. Pop an element from a set\n",
    "def pop_element(s):\n",
    "    return s.pop() if s else None  # Pop returns an element or None if set is empty\n"
   ]
  },
  {
   "cell_type": "code",
   "execution_count": null,
   "id": "35f958c1-0a06-42e5-9b2d-7ba88e10e75e",
   "metadata": {},
   "outputs": [],
   "source": [
    "# 18. Check if two sets have no elements in common\n",
    "def have_no_common_elements(set1, set2):\n",
    "    return set1.isdisjoint(set2)"
   ]
  },
  {
   "cell_type": "code",
   "execution_count": null,
   "id": "75944cd9-3293-4d98-ba86-5bcd58af5cc3",
   "metadata": {},
   "outputs": [],
   "source": [
    "# 19. Find the symmetric difference between two sets\n",
    "def symmetric_difference(set1, set2):\n",
    "    return set1 ^ set2  # or set1.symmetric_difference(set2)"
   ]
  },
  {
   "cell_type": "code",
   "execution_count": null,
   "id": "f9664bf2-70f5-4bf1-b5ce-aa3394763d49",
   "metadata": {},
   "outputs": [],
   "source": [
    "# 20. Update a set with elements from another set\n",
    "def update_set(set1, set2):\n",
    "    set1.update(set2)"
   ]
  },
  {
   "cell_type": "code",
   "execution_count": null,
   "id": "c92d7e99-2840-4ffe-a77a-aec0ff0166e6",
   "metadata": {},
   "outputs": [],
   "source": [
    "# 21. Create a set of the first 5 prime numbers\n",
    "def prime_numbers_set():\n",
    "    return {2, 3, 5, 7, 11}"
   ]
  },
  {
   "cell_type": "code",
   "execution_count": null,
   "id": "242937cd-c704-4b48-890f-2f4bf1be4866",
   "metadata": {},
   "outputs": [],
   "source": [
    "# 22. Check if two sets are identical\n",
    "def are_identical(set1, set2):\n",
    "    return set1 == set2"
   ]
  },
  {
   "cell_type": "code",
   "execution_count": null,
   "id": "1c5ea1e6-6ba1-4887-b09c-4e4e0b319d85",
   "metadata": {},
   "outputs": [],
   "source": [
    "# 23. Create a frozen set\n",
    "def create_frozen_set(iterable):\n",
    "    return frozenset(iterable)"
   ]
  },
  {
   "cell_type": "code",
   "execution_count": null,
   "id": "3b0c901e-00b7-46be-a895-5b9f95cbb213",
   "metadata": {},
   "outputs": [],
   "source": [
    "# 24. Check if a set is disjoint with another set\n",
    "def is_disjoint(set1, set2):\n",
    "    return set1.isdisjoint(set2)"
   ]
  },
  {
   "cell_type": "code",
   "execution_count": null,
   "id": "dcf592ec-561f-4b1f-ad1c-790168059e21",
   "metadata": {},
   "outputs": [],
   "source": [
    "# 25. Create a set of squares of numbers from 1 to 5\n",
    "def squares_set():\n",
    "    return {x**2 for x in range(1, 6)}"
   ]
  },
  {
   "cell_type": "code",
   "execution_count": null,
   "id": "c47e5746-93f0-487a-adfe-0bf174300465",
   "metadata": {},
   "outputs": [],
   "source": [
    "\n",
    "# 26. Filter out all even numbers from a set\n",
    "def filter_even_numbers(s):\n",
    "    return {x for x in s if x % 2 != 0"
   ]
  },
  {
   "cell_type": "code",
   "execution_count": null,
   "id": "dbe49766-4f1a-4675-a313-adccbc791b17",
   "metadata": {},
   "outputs": [],
   "source": [
    "# 27. Multiply all elements in a set by 2\n",
    "def multiply_elements_by_two(s):\n",
    "    return {x * 2 for x in s}"
   ]
  },
  {
   "cell_type": "code",
   "execution_count": null,
   "id": "47382bee-60f3-4844-b276-664746cf1aee",
   "metadata": {},
   "outputs": [],
   "source": [
    "# 28. Create a set of random numbers\n",
    "def random_numbers_set(size, lower_bound, upper_bound):\n",
    "    return {random.randint(lower_bound, upper_bound) for _ in range(size)}"
   ]
  },
  {
   "cell_type": "code",
   "execution_count": null,
   "id": "cae961fb-8400-44c8-9ce2-2063e47af31e",
   "metadata": {},
   "outputs": [],
   "source": [
    "# 29. Check if a set is empty\n",
    "def is_empty(s):\n",
    "    return len(s) == 0  # Alternatively, you can check if not s"
   ]
  },
  {
   "cell_type": "code",
   "execution_count": null,
   "id": "1ba42d5e-8ea1-484b-a23c-98052543ca28",
   "metadata": {},
   "outputs": [],
   "source": [
    "# 30. Create a nested set (using frozenset)\n",
    "def nested_set():\n",
    "    return {frozenset({1, 2}), frozenset({3, 4})}"
   ]
  },
  {
   "cell_type": "code",
   "execution_count": null,
   "id": "e202745f-b284-4628-8ec5-5613cca4c124",
   "metadata": {},
   "outputs": [],
   "source": [
    "# 31. Remove an element from a set using the discard method\n",
    "def discard_element(s, element):\n",
    "    s.discard(element)  # No error if element is not found\n"
   ]
  },
  {
   "cell_type": "code",
   "execution_count": null,
   "id": "182a44cf-204d-46c8-9986-e80494c14b40",
   "metadata": {},
   "outputs": [],
   "source": [
    "# 32. Compare two sets\n",
    "def compare_sets(set1, set2):\n",
    "    return {\n",
    "        \"equal\": set1 == set2,\n",
    "        \"subset\": set1 < set2,\n",
    "        \"superset\": set1 > set2,\n",
    "        \"disjoint\": set1.isdisjoint(set2)\n",
    "    }"
   ]
  },
  {
   "cell_type": "code",
   "execution_count": null,
   "id": "a9793248-33b8-4b2e-a9a2-dcc0b304c145",
   "metadata": {},
   "outputs": [],
   "source": [
    "# 33. Create a set from a string\n",
    "def set_from_string(s):\n",
    "    return set(s)  # Each character will be a unique element in the set"
   ]
  },
  {
   "cell_type": "code",
   "execution_count": null,
   "id": "5dbfd778-1f61-4104-82f8-8c8aab6d4294",
   "metadata": {},
   "outputs": [],
   "source": [
    "# 34. Convert a set of strings to a set of integers\n",
    "def convert_strings_to_integers(s):\n",
    "    return {int(x) for x in s}"
   ]
  },
  {
   "cell_type": "code",
   "execution_count": null,
   "id": "a7c84bf5-e029-4673-b5d2-123685354ad4",
   "metadata": {},
   "outputs": [],
   "source": [
    "# 35. Convert a set of integers to a set of strings\n",
    "def convert_integers_to_strings(s):\n",
    "    return {str(x) for x in s}"
   ]
  },
  {
   "cell_type": "code",
   "execution_count": null,
   "id": "792d8a21-fef6-4f70-a3e6-7ddaa30409e3",
   "metadata": {},
   "outputs": [],
   "source": [
    "# 36. Create a set from a tuple\n",
    "def set_from_tuple(tpl):\n",
    "    return set(tpl)\n"
   ]
  },
  {
   "cell_type": "code",
   "execution_count": null,
   "id": "85b5b866-fff0-42fe-b400-963e251a72f8",
   "metadata": {},
   "outputs": [],
   "source": [
    "# 37. Convert a set to a tuple\n",
    "def set_to_tuple(s):\n",
    "    return tuple(s)"
   ]
  },
  {
   "cell_type": "code",
   "execution_count": null,
   "id": "6e392d80-f999-41b6-bfe0-2295107e8ab4",
   "metadata": {},
   "outputs": [],
   "source": [
    "# 38. Find the maximum value in a set\n",
    "def max_in_set(s):\n",
    "    return max(s) if s else None"
   ]
  },
  {
   "cell_type": "code",
   "execution_count": null,
   "id": "3c730c10-5158-4c37-8629-2d7f2f7a6fbd",
   "metadata": {},
   "outputs": [],
   "source": [
    "# 39. Find the minimum value in a set\n",
    "def min_in_set(s):\n",
    "    return min(s) if s else None"
   ]
  },
  {
   "cell_type": "code",
   "execution_count": 150,
   "id": "e7d123bc-5b58-4396-b58e-9d5f80c0fa12",
   "metadata": {},
   "outputs": [],
   "source": [
    "# 40. Create a set from user input\n",
    "def set_from_user_input():\n",
    "    user_input = input(\"Enter elements separated by commas: \")\n",
    "    return set(user_input.split(','))"
   ]
  },
  {
   "cell_type": "code",
   "execution_count": null,
   "id": "839f5b31-47f0-409d-ac7a-b01aa08151f5",
   "metadata": {},
   "outputs": [],
   "source": [
    "# 41. Check if the intersection of two sets is empty\n",
    "def is_intersection_empty(set1, set2):\n",
    "    return set1.isdisjoint(set2)"
   ]
  },
  {
   "cell_type": "code",
   "execution_count": null,
   "id": "767a4dee-9392-448b-91fe-e15f753e543e",
   "metadata": {},
   "outputs": [],
   "source": [
    "# 42. Create a set of the first 5 Fibonacci numbers\n",
    "def fibonacci_set():\n",
    "    fib = [0, 1]\n",
    "    for i in range(2, 5):\n",
    "        fib.append(fib[-1] + fib[-2])\n",
    "    return set(fib)"
   ]
  },
  {
   "cell_type": "code",
   "execution_count": null,
   "id": "e45b90b2-f181-4af6-8368-12745589e9a7",
   "metadata": {},
   "outputs": [],
   "source": [
    "# 43. Remove duplicates from a list using sets\n",
    "def remove_duplicates(lst):\n",
    "    return list(set(lst))"
   ]
  },
  {
   "cell_type": "code",
   "execution_count": null,
   "id": "59b7eb36-2630-4b5c-8591-3ff8c1d66032",
   "metadata": {},
   "outputs": [],
   "source": [
    "# 44. Check if two sets have the same elements, regardless of their count\n",
    "def have_same_elements(set1, set2):\n",
    "    return set1 == set2"
   ]
  },
  {
   "cell_type": "code",
   "execution_count": null,
   "id": "0725e632-e840-4e36-aa80-92fe85a53c62",
   "metadata": {},
   "outputs": [],
   "source": [
    "# 45. Create a set of the first `n` powers of 2\n",
    "def powers_of_two_set(n):\n",
    "    return {2**i for i in range(n)}"
   ]
  },
  {
   "cell_type": "code",
   "execution_count": null,
   "id": "b6ec1d21-df19-4938-a4d0-eecea6bc6eab",
   "metadata": {},
   "outputs": [],
   "source": [
    "# 46. Find the common elements between a set and a list\n",
    "def common_elements(set1, lst):\n",
    "    return set1.intersection(lst)\n"
   ]
  },
  {
   "cell_type": "code",
   "execution_count": null,
   "id": "27104f43-403d-4c7f-a569-80b1aa57a326",
   "metadata": {},
   "outputs": [],
   "source": [
    "# 47. Create a set of the first `n` triangular numbers\n",
    "def triangular_numbers_set(n):\n",
    "    return {i * (i + 1) // 2 for i in range(1, n + 1)}"
   ]
  },
  {
   "cell_type": "code",
   "execution_count": null,
   "id": "0ac30521-47cb-4cd4-a9c7-d7586bf42356",
   "metadata": {},
   "outputs": [],
   "source": [
    "# 48. Check if a set contains another set as a subset\n",
    "def contains_subset(set1, subset):\n",
    "    return subset <= set1  # or subset.issubset(set1)"
   ]
  },
  {
   "cell_type": "code",
   "execution_count": null,
   "id": "9b61ea9a-d5d8-4e56-83e5-363cfadb0256",
   "metadata": {},
   "outputs": [],
   "source": [
    "# 49. Create a set of alternating 1s and 0s of length `n`\n",
    "def alternating_set(n):\n",
    "    return {i % 2 for i in range(n)}  # This will create a set {0, 1}\n"
   ]
  },
  {
   "cell_type": "code",
   "execution_count": 149,
   "id": "7803b3be-73dc-4592-b63d-1918cf1b592d",
   "metadata": {},
   "outputs": [
    {
     "name": "stdout",
     "output_type": "stream",
     "text": [
      "Merged Sets: {1, 2, 3, 4, 5, 6}\n"
     ]
    }
   ],
   "source": [
    "# 50. Merge multiple sets into one\n",
    "def merge_sets(*sets):\n",
    "    result = set()\n",
    "    for s in sets:\n",
    "        result.update(s)\n",
    "    return result\n",
    " # for a example:\n",
    "    \n",
    "set_a = {1, 2}\n",
    "set_b = {3, 4}\n",
    "set_c = {5, 6}\n",
    "print(\"Merged Sets:\", merge_sets(set_a, set_b, set_c)) "
   ]
  }
 ],
 "metadata": {
  "kernelspec": {
   "display_name": "Python 3 (ipykernel)",
   "language": "python",
   "name": "python3"
  },
  "language_info": {
   "codemirror_mode": {
    "name": "ipython",
    "version": 3
   },
   "file_extension": ".py",
   "mimetype": "text/x-python",
   "name": "python",
   "nbconvert_exporter": "python",
   "pygments_lexer": "ipython3",
   "version": "3.11.7"
  }
 },
 "nbformat": 4,
 "nbformat_minor": 5
}
